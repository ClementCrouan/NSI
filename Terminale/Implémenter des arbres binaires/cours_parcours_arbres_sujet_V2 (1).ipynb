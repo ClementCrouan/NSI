{
 "cells": [
  {
   "cell_type": "markdown",
   "metadata": {
    "id": "ZAQZg7TNTQEi"
   },
   "source": [
    "<center>&nbsp;<br>\n",
    "<font size=\"12\" >🌳 Parcours des arbres binaires </font><br></center>"
   ]
  },
  {
   "cell_type": "markdown",
   "metadata": {
    "id": "vQoCagSdTQEq"
   },
   "source": [
    "## <span style=\"color:blue; background : #00FFFF\">I. Retour sur les structures de données abstraites.</span>"
   ]
  },
  {
   "cell_type": "markdown",
   "metadata": {
    "id": "zxh-ID2DTQEr"
   },
   "source": [
    "### <span style=\"color:navy\"> 1. les différentes structures déjà étudiées </span>"
   ]
  },
  {
   "cell_type": "markdown",
   "metadata": {
    "id": "vZ1s0WU3TQEr"
   },
   "source": [
    "Nous avons déjà étudié beaucoup de structures de données abstraites. Quelles techniques avons-nous pour en parcourir les éléments?\n",
    "- ***Pour le type abstrait liste :***"
   ]
  },
  {
   "cell_type": "markdown",
   "metadata": {
    "id": "-UkyDQyQTQEr"
   },
   "source": [
    "Réponse : enlever la tête"
   ]
  },
  {
   "cell_type": "markdown",
   "metadata": {
    "id": "hbzHcRm9TQEs"
   },
   "source": [
    "- ***Pour le type abstrait file :*** "
   ]
  },
  {
   "cell_type": "markdown",
   "metadata": {
    "id": "a0v-DAoLTQEs"
   },
   "source": [
    "Réponse : défiler"
   ]
  },
  {
   "cell_type": "markdown",
   "metadata": {
    "id": "zYmi9igcTQEs"
   },
   "source": [
    "- ***Pour le type abstrait pile :***"
   ]
  },
  {
   "cell_type": "markdown",
   "metadata": {
    "id": "rbM716uJTQEt"
   },
   "source": [
    "Réponse : dépiler"
   ]
  },
  {
   "cell_type": "markdown",
   "metadata": {
    "id": "SbtfhSC4TQEt"
   },
   "source": [
    " - ***Pour le type abstrait dictionnaire :***"
   ]
  },
  {
   "cell_type": "markdown",
   "metadata": {
    "id": "SkoP0jCqTQEt"
   },
   "source": [
    "Réponse : clé "
   ]
  },
  {
   "cell_type": "markdown",
   "metadata": {
    "id": "cFN7aq8DTQEu"
   },
   "source": [
    "- ***Pour le type `list` de python :***"
   ]
  },
  {
   "cell_type": "markdown",
   "metadata": {
    "id": "42uv9fodTQEu"
   },
   "source": [
    "Réponse : index"
   ]
  },
  {
   "cell_type": "markdown",
   "metadata": {
    "id": "9Zep6OcHTQEu"
   },
   "source": [
    "### <span style=\"color:navy\">2. Arbre binaire</span>"
   ]
  },
  {
   "cell_type": "markdown",
   "metadata": {
    "id": "QyY3AmuyTQEu"
   },
   "source": [
    "Un arbre binaire est une structure permettant de stocker une collection de données de même type. **Ce n'est pas une structure linéaire.**    \n",
    "Le principal avantage des arbres par rapport aux listes est qu’ils permettent de ranger les données de telle sorte que les recherches soient plus efficace.  \n",
    "Pour accéder à un élément quelconque d’un arbre , il faut \"descendre\" dans l’arbre jusqu’à cet élément."
   ]
  },
  {
   "cell_type": "markdown",
   "metadata": {
    "id": "_FY3miPcTQEv"
   },
   "source": [
    "Certaines données ont naturellement une structure d'arbre binaire. C'est le cas d'un arbre généalogique ascendant (recherche du père et de la mère).\n",
    "  "
   ]
  },
  {
   "cell_type": "markdown",
   "metadata": {
    "id": "mlBIbzZPTQEv"
   },
   "source": [
    "De façon plus conforme à la théorie des arbres, nous aurions pu représenter cet arbre en plaçant la racine en haut."
   ]
  },
  {
   "cell_type": "markdown",
   "metadata": {
    "id": "6hecJQEKTQEw"
   },
   "source": [
    "- Un ***parcours en largeur*** nous permettra de parcourir successivement toutes les personnes d'une même génération.\n",
    "- Un ***parcours en profondeur*** nous permettra de parcourir l'arbre \"par branche\". Nous allons préciser tout cela."
   ]
  },
  {
   "cell_type": "markdown",
   "metadata": {
    "id": "EFKNfE7WTQEw"
   },
   "source": [
    "# 🤔\n",
    "## <span style=\"color:blue; background : #00FFFF\"> II. Différents parcours possibles des arbres </span>  🏃‍♂️ "
   ]
  },
  {
   "cell_type": "markdown",
   "metadata": {
    "id": "2SmKzWIhTQEw"
   },
   "source": [
    "Cette année, nous allons étudier le parcours en largeur et le parcours en profondeur"
   ]
  },
  {
   "cell_type": "markdown",
   "metadata": {
    "id": "D9T85sCbTQEw"
   },
   "source": [
    "### <span style=\"color:navy\">1. Parcours en largeur (Ce parcours est parfois noté BFS pour Breadth-First Search) </span>"
   ]
  },
  {
   "cell_type": "markdown",
   "metadata": {
    "id": "9JSJPMcsTQEw"
   },
   "source": [
    "Le parcours en largeur correspond à un parcours par niveau de noeuds de l'arbre. Un niveau est un ensemble de\n",
    "noeuds ou de feuilles situés à la même profondeur."
   ]
  },
  {
   "cell_type": "markdown",
   "metadata": {
    "id": "93HrkNooTQEx"
   },
   "source": [
    "***Méthode :*** On note chaque sommet niveau par niveau en commençant par la gauche."
   ]
  },
  {
   "cell_type": "markdown",
   "metadata": {
    "id": "O8ZbAbfwTQEx"
   },
   "source": [
    "Nous allons utiliser l'implémentation des arbres binaires suivante, déjà étudiée."
   ]
  },
  {
   "cell_type": "code",
   "execution_count": 4,
   "metadata": {
    "id": "-R8PGBuwTQEy"
   },
   "outputs": [],
   "source": [
    "class Arbre:\n",
    "    def __init__(self, val):\n",
    "        self.valeur = val\n",
    "        self.gauche = None\n",
    "        self.droit = None\n",
    "\n",
    "    def ajout_gauche(self,val):\n",
    "        self.gauche = Arbre(val)\n",
    "\n",
    "    def ajout_droit(self,val):\n",
    "        self.droit = Arbre(val)\n"
   ]
  },
  {
   "cell_type": "markdown",
   "metadata": {
    "id": "t7EPgMsnTQEy"
   },
   "source": [
    "La structure est la suivante :  **un arbre est représenté par sa racine**, et il possède un sous arbre-gauche et un sous-arbre droit (éventuellement vides : None) représentés eux aussi par leur racine."
   ]
  },
  {
   "cell_type": "markdown",
   "metadata": {
    "id": "QdaJ8myTTQEz"
   },
   "source": [
    "Pour étudier cet algorithme de parcours en largeur, nous allons utiliser une file.  \n",
    "Quel est le principe d'une file ?"
   ]
  },
  {
   "cell_type": "markdown",
   "metadata": {
    "id": "FoYjkmc1TQEz"
   },
   "source": [
    "Réponse : First in first out"
   ]
  },
  {
   "cell_type": "markdown",
   "metadata": {
    "id": "aJ2TmjdlTQEz"
   },
   "source": [
    "Nous avons déjà vu plusieurs implémentations possibles des files, nous allons utiliser celle de Python : le module Queue"
   ]
  },
  {
   "cell_type": "markdown",
   "metadata": {
    "id": "muCYgv-ITQEz"
   },
   "source": [
    "#### Extrait de la documentation en français de python  sur le module Queue qui est une implémentation des files.   \n",
    "([https://docs.python.org/fr/3.7/index.html])  \n",
    "  \n",
    "Les objets Queue (Queue, LifoQueue ou PriorityQueue) fournissent les méthodes publiques décrites ci-dessous.\n",
    "\n",
    "**Queue.qsize()**   \n",
    "Renvoie la taille approximative de la file. Notez que qsize() > 0 ne garantit pas qu'un get() ultérieur ne sera pas bloquant et que qsize() < maxsize ne garantit pas non plus qu'un put() ne sera pas bloquant.\n",
    "  \n",
    "**Queue.empty()**  \n",
    "Renvoie True si la file est vide, False sinon. Si empty() renvoie True, cela ne garantit pas qu'un appel ultérieur à put() ne sera pas bloquant. Similairement, si empty() renvoie False, cela ne garantit pas qu'un appel ultérieur à get() ne sera pas bloquant.  \n",
    "  \n",
    "**Queue.full()**  \n",
    "Renvoie True si la file est pleine, False sinon. Si full() renvoie``True``, cela ne garantit pas qu'un appel ultérieur à get() ne sera pas bloquant. Similairement, si full() retourne False, cela ne garantit pas qu'un appel ultérieur à put() ne sera pas bloquant.  \n",
    "  \n",
    "**Queue.put(item, block=True, timeout=None)**  \n",
    "Met item dans la file. Si les arguments optionnels block et timeout sont respectivement True et None (les valeurs par défaut), la méthode bloque si nécessaire jusqu'à ce qu'un emplacement libre soit disponible. Si timeout est un nombre positif, elle bloque au plus timeout secondes et lève l'exception Full s'il n'y avait pas d'emplacement libre pendant cette période de temps. Sinon (block est False), elle met un élément dans la file s'il y a un emplacement libre immédiatement disponible. Si ce n'est pas le cas, elle lève l'exception Full (timeout est ignoré dans ce cas).  \n",
    "    \n",
    "**Queue.get(block=True, timeout=None)**  \n",
    "Retire et renvoie un élément de la file. Si les arguments optionnels block et timeout valent respectivement True et None (les valeurs par défaut), la méthode bloque si nécessaire jusqu'à ce qu'un élément soit disponible. Si timeout est un entier positif, elle bloque au plus timeout secondes et lève l'exception Empty s'il n'y avait pas d'élément disponible pendant cette période de temps. Sinon (block vaut False), elle renvoie un élément s'il y en a un immédiatement disponible. Si ce n'est pas le cas, elle lève l'exception Empty (timeout est ignoré dans ce cas).  \n"
   ]
  },
  {
   "cell_type": "markdown",
   "metadata": {
    "id": "cA0h4dsOTQE0"
   },
   "source": [
    "**Expérimentons ce module avec le premier exemple ci-dessous :**"
   ]
  },
  {
   "cell_type": "code",
   "execution_count": 7,
   "metadata": {
    "id": "IkusALTqTQE0",
    "scrolled": true
   },
   "outputs": [
    {
     "name": "stdout",
     "output_type": "stream",
     "text": [
      "taille de la file :  3\n",
      "on defile\n",
      "on peut récuperer ce qui a ete defile\n",
      "element retire :  1\n",
      "taille de la file :  2\n",
      "on defile\n",
      "taille de la file :  1\n"
     ]
    }
   ],
   "source": [
    "from queue import *\n",
    "f = Queue()\n",
    "f.put(1)\n",
    "f.put(2)\n",
    "f.put(3)\n",
    "print(\"taille de la file : \", f.qsize())\n",
    "print(\"on defile\")\n",
    "print(\"on peut récuperer ce qui a ete defile\")\n",
    "enleve=f.get()\n",
    "print(\"element retire : \", enleve)\n",
    "print(\"taille de la file : \", f.qsize())\n",
    "f.get()\n",
    "print(\"on defile\")\n",
    "print(\"taille de la file : \", f.qsize())"
   ]
  },
  {
   "cell_type": "markdown",
   "metadata": {
    "id": "PhQk0NlxTQE0"
   },
   "source": [
    "**Un peu plus compliqué :** Nous allons mettre des arbres dans une file, et pas seulement des entiers.  \n",
    "Observons l'exemple suivant :"
   ]
  },
  {
   "cell_type": "code",
   "execution_count": 8,
   "metadata": {
    "id": "nqqE4sbKTQE0"
   },
   "outputs": [],
   "source": [
    "# Implementation de arbre1\n",
    "arbre1 = Arbre(\"A\")\n",
    "arbre1.ajout_gauche(\"B\")\n",
    "arbre1.ajout_droit(\"C\")\n",
    "arbre1.gauche.ajout_gauche(\"D\")\n",
    "arbre1.gauche.ajout_droit(\"E\")\n",
    "arbre1.gauche.gauche.ajout_droit(\"G\")\n",
    "arbre1.droit.ajout_gauche(\"F\")\n",
    "\n",
    "# On crer la file f, puis on met arbre1 dedans\n",
    "f = Queue()\n",
    "f.put(arbre1)\n"
   ]
  },
  {
   "cell_type": "markdown",
   "metadata": {
    "id": "9NJzvsJJTQE1"
   },
   "source": [
    "Quelle est la taille de la file f ?"
   ]
  },
  {
   "cell_type": "code",
   "execution_count": null,
   "metadata": {
    "id": "KX-aL_ugTQE1"
   },
   "outputs": [],
   "source": [
    "Réponse : 1"
   ]
  },
  {
   "cell_type": "markdown",
   "metadata": {
    "id": "Op1jTfnbTQE1"
   },
   "source": [
    "Vérifions ci dessous"
   ]
  },
  {
   "cell_type": "code",
   "execution_count": 9,
   "metadata": {
    "id": "JptP_n9-TQE1"
   },
   "outputs": [
    {
     "name": "stdout",
     "output_type": "stream",
     "text": [
      "la liste a une taille de: 1\n"
     ]
    }
   ],
   "source": [
    "# compléter le code pour afficher la taille de f\n",
    "print(\"la liste a une taille de:\",f.qsize())"
   ]
  },
  {
   "cell_type": "markdown",
   "metadata": {
    "id": "-NQeKdv8TQE1"
   },
   "source": [
    "**Explication :** la file ne contient qu'un seul élément de type arbre binaire (`arbre1`) dont la racine est `\"A\"`.  \n",
    "Nous allons maintenant ajouter deux autres éléments à cette file : le sous-arbre gauche, et le sous-arbre droit de la racine.  \n",
    "Complétez le code ci-dessous"
   ]
  },
  {
   "cell_type": "code",
   "execution_count": 10,
   "metadata": {
    "id": "hnZQv5gqTQE2"
   },
   "outputs": [
    {
     "name": "stdout",
     "output_type": "stream",
     "text": [
      "la liste a une taille de: 2\n"
     ]
    }
   ],
   "source": [
    "# Compléter le code pour ajouter le sous arbre gauche de la racine à la file f, et faire afficher la taille de la file.\n",
    "f.put(arbre1.gauche)\n",
    "print(\"la liste a une taille de:\",f.qsize())"
   ]
  },
  {
   "cell_type": "markdown",
   "metadata": {
    "id": "KX3XsJgHTQE2"
   },
   "source": [
    "Pour \"voir\" ce que contient notre file, nous allons défiler tous les éléments, et les afficher à chaque fois.  \n",
    "Compléter le code ci-dessous. Vous ne  programmerrez pas les \"défilages\" un par un, mais utiliserez obligatoirement une boucle `while`  qui teste si la file est vide  \n",
    "Indication : pour afficher un arbre (représenté souvenons-nous par sa racine), vous pouvez utiliser l'attibut `valeur`."
   ]
  },
  {
   "cell_type": "code",
   "execution_count": 5,
   "metadata": {
    "id": "ie0w62hWTQE2"
   },
   "outputs": [
    {
     "name": "stdout",
     "output_type": "stream",
     "text": [
      "A\n",
      "B\n"
     ]
    }
   ],
   "source": [
    "# Compléter le code ci-dessous\n",
    "while not f.empty():\n",
    "    value = f.get()\n",
    "    print(value.valeur)\n",
    "    "
   ]
  },
  {
   "cell_type": "markdown",
   "metadata": {
    "id": "XsNHLrcjTQE3"
   },
   "source": [
    "![pseudocode.jpg](attachment:pseudocode.jpg)"
   ]
  },
  {
   "cell_type": "markdown",
   "metadata": {
    "id": "12NRIIDvTQE3"
   },
   "source": [
    "Faire tourner à la main cet algorithme sur l'exemple de : `arbre1`.  \n",
    "Compléter le tableau ci-dessous en utilisant une ligne par tour de boucle `while`.   \n",
    "La première ligne correspond à l'instruction : enfiler arbre dans f.  \n",
    "On convient d'écrire les éléments d'une file avec la tête à droite. On enfile donc par la gauche, et on défile par la droite.\n",
    "Pour compléter le tableau, il suffit de double-cliquer sur la cellule."
   ]
  },
  {
   "cell_type": "markdown",
   "metadata": {
    "id": "AhufV6LXTQE3"
   },
   "source": [
    "| Affichage | f    |  \n",
    "| :---------| :--- | \n",
    "|           | A    | \n",
    "| A         | CB   | \n",
    "| B         | EDC  |\n",
    "| C         | FED  | \n",
    "| D         | GFE  | \n",
    "| E         | GF   | \n",
    "| F         | G    | \n",
    "| G         | vide | \n"
   ]
  },
  {
   "cell_type": "markdown",
   "metadata": {
    "id": "49mMOo2PTQE3"
   },
   "source": [
    "En utilisant le pseudo-code fourni, compléter ci-dessous la fonction `parcours_largeur(arbre)`, puis exécuter ce script."
   ]
  },
  {
   "cell_type": "code",
   "execution_count": 8,
   "metadata": {
    "id": "3uPWuRpSTQE3"
   },
   "outputs": [
    {
     "name": "stdout",
     "output_type": "stream",
     "text": [
      "['A', 'B', 'C', 'D', 'E', 'F', 'G']\n"
     ]
    }
   ],
   "source": [
    "from queue import *\n",
    "\n",
    "class Arbre:\n",
    "    def __init__(self, val):\n",
    "        self.valeur = val\n",
    "        self.gauche = None\n",
    "        self.droit = None\n",
    "\n",
    "    def ajout_gauche(self,val):\n",
    "        self.gauche = Arbre(val)\n",
    "\n",
    "    def ajout_droit(self,val):\n",
    "        self.droit = Arbre(val)\n",
    "\n",
    "\n",
    "def parcours_largeur(arbre):\n",
    "    \"\"\"\n",
    "    parcours_largeur(arbre) renvoie la liste des noeuds tels qu'ils sont apparus dans ce parcours\n",
    "    Par exemple pour \n",
    "    arbre = Arbre(\"A\")\n",
    "    arbre.ajout_gauche(\"B\")\n",
    "    arbre.ajout_droit(\"C\")\n",
    "    la fonction doit renvoyer ['A', 'B', 'C']\n",
    "    \"\"\"\n",
    "    f = Queue()\n",
    "    f.put(arbre)\n",
    "    lst = []\n",
    "    while not f.empty():\n",
    "        a = f.get()\n",
    "        lst += [a.valeur]\n",
    "        if a.gauche != None:\n",
    "            f.put(a.gauche)\n",
    "        if a.droit != None:\n",
    "            f.put(a.droit)\n",
    "    return lst\n",
    "\n",
    "\n",
    "arbre1 = Arbre(\"A\")\n",
    "arbre1.ajout_gauche(\"B\")\n",
    "arbre1.ajout_droit(\"C\")\n",
    "arbre1.gauche.ajout_gauche(\"D\")\n",
    "arbre1.gauche.ajout_droit(\"E\")\n",
    "arbre1.gauche.gauche.ajout_droit(\"G\")\n",
    "arbre1.droit.ajout_gauche(\"F\")\n",
    "print(parcours_largeur(arbre1))\n",
    "\n"
   ]
  },
  {
   "cell_type": "markdown",
   "metadata": {
    "id": "w6LZgmnRTQE4"
   },
   "source": [
    "Nous avons bien réalisé un parcours en largeur de notre arbre."
   ]
  },
  {
   "cell_type": "markdown",
   "metadata": {
    "id": "KZnqZJueTQE4"
   },
   "source": [
    "**<span style=\"background-color:yellow\">A retenir : \n",
    "Le parcours d'un arbre en largeur est un algorithme itératif (boucle while) utilisant une file**</span>\n"
   ]
  },
  {
   "cell_type": "markdown",
   "metadata": {
    "id": "IJcbZHxPTQE4"
   },
   "source": [
    "### <span style=\"color:navy\">2. Les différents parcours en profondeur (pafois notés DFS pour Depth-First Search)</span>"
   ]
  },
  {
   "cell_type": "markdown",
   "metadata": {
    "id": "abUXYlQmTQE5"
   },
   "source": [
    "#### a) Première définition des trois parcours : A partir de ce contour, on définit trois parcours des sommets de l’arbre :  \n",
    "1. l’ordre préfixe : on liste chaque sommet la première fois qu’on le rencontre dans la balade.   \n",
    "Chaque noeud est visité avant que ses deux fils le soient.  \n",
    "On part de la racine, on visite le fils gauche, puis le fils droit  "
   ]
  },
  {
   "cell_type": "markdown",
   "metadata": {
    "id": "XaJgDp81TQE6"
   },
   "source": [
    "\n",
    "2. l’ordre suffixe (aussi appelé postfixe en anglais) : on liste chaque sommet la dernière fois qu’on le rencontre.   \n",
    "Chaque noeud est visité après que ses deux fils le soient.  \n",
    "On visite le fils gauche, puis le fils droit, puis la racine  "
   ]
  },
  {
   "cell_type": "markdown",
   "metadata": {
    "id": "T1uFDm97TQE6"
   },
   "source": [
    "3. l’ordre infixe (plus compliqué!): chaque noeud est visité (listé) après son fils gauche mais avant son fils droit. Si c'est une feuille il est donc listé (sont fils gauche et son fils droit sont vides)  \n",
    "On visite le fils gauche, puis la racine, puis le fils droit"
   ]
  },
  {
   "cell_type": "markdown",
   "metadata": {
    "id": "-Ud5Uv_mTQE6"
   },
   "source": [
    "Ces trois parcours sont naturellement **récursifs.**"
   ]
  },
  {
   "cell_type": "markdown",
   "metadata": {
    "id": "dwaX6cPhTQE7"
   },
   "source": [
    "On peut ainsi considérer qu’on passe une fois à gauche de chaque noeud (en descendant), une fois en dessous\n",
    "de chaque noeud, une fois à droite de chaque noeud (en remontant).\n",
    "Vérifier, sur l’exemple, que chacun des ordres préfixe, infixe, postfixe est obtenu en listant tous les mots :  \n"
   ]
  },
  {
   "cell_type": "markdown",
   "metadata": {
    "id": "IiinlKc4TQE7"
   },
   "source": [
    "1. Ordre préfixe : lorsque l'on passe à gauche des noeuds   \n",
    "👉 Regarder cette vidéo : [ordre préfixe](https://www.youtube.com/watch?v=sWRfjcNdsno&feature=youtu.be)  \n",
    "Cela donne ici : r,a,c,h,d,i,j,l,b,e,k,f"
   ]
  },
  {
   "cell_type": "markdown",
   "metadata": {
    "id": "dEcMWuGsTQE7"
   },
   "source": [
    "2. Ordre suffixe : lorsque l'on passe à droite des noeuds  \n",
    "👉 Regarder cette vidéo : [ordre suffixe](https://www.youtube.com/watch?v=x5sha6aQ3pE&feature=youtu.be)  \n",
    "Cela donne ici : h,c,i,l,j,d,a,k,e,f,h,r"
   ]
  },
  {
   "cell_type": "markdown",
   "metadata": {
    "id": "8zccOFdQTQE7"
   },
   "source": [
    "3. Ordre infixe : lorsque l'on passe sous les noeuds   \n",
    "👉 Regarder cette vidéo : [ordre infixe](https://www.youtube.com/watch?v=MzQr47Kl95Q&feature=youtu.be)  \n",
    "Cela donne ici : c,h,a,i,d,l,i,r,k,e,h,f"
   ]
  },
  {
   "cell_type": "markdown",
   "metadata": {
    "id": "WO-wjPKWTQE7"
   },
   "source": [
    "### <span style=\"color:navy\">3. Expérimentons ces trois parcours dans le cas concret d'un labyrinthe </span>"
   ]
  },
  {
   "cell_type": "markdown",
   "metadata": {
    "id": "Kpx3_h-ATQE7"
   },
   "source": [
    "Voici un labyrinthe :<center>\n",
    "\n",
    "![imgLab.jpg](data:image/jpeg;base64,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)\n",
    "</center>"
   ]
  },
  {
   "cell_type": "markdown",
   "metadata": {
    "id": "EDDp4NkYTQE8"
   },
   "source": [
    "Les cercle vides sont des noeuds sans intersection, les cercles pleins sont des culs de sac, les carrés sont des intersections, l'entrée et la sortie sont marquées par un cercle plein dans un cercle vide.\n",
    "\n",
    "Ce labyrinthe est parfait :  chaque cellule est reliée à toutes les autres et, ce, de manière unique \n",
    "\n",
    "Contrairement au labyrinthe étudié dans le cours sur les graphe, celui-ci peut donc être représenté par un arbre (il n'y a pas de cycle)\n",
    "\n",
    "**a. Faire la représentation de ce labyrinthe avec  un arbre (sur feuille).**  \n",
    "- Pour nommer un nœud, il a été choisi de donner en premier le numéro de la colonne, et en deuxième le numéro de la ligne.  Le nœud d'entrée est donc le (0,4) et celui de sortie le (5,4).  \n",
    "- On part du nœud (0,4) qui sera la racine de cet arbre. Lorsqu'il n'y a qu'un fils, **on convient de le placer obligatoirement à gauche**, et lorsqu'il y a une intersection, placez bien entendu à gauche le nœud quand on va vers la gauche et à droite quand on va à droite.  \n",
    "- Pour simplifier, on notera 04 à la place (0, 4), 14 à la place de (1, 4) etc...\n"
   ]
  },
  {
   "cell_type": "markdown",
   "metadata": {
    "id": "GRGigXOHTQE8"
   },
   "source": [
    "***Dessin à faire sur votre feuille***\n",
    "\n"
   ]
  },
  {
   "cell_type": "markdown",
   "metadata": {
    "id": "AavIib8lTQE8"
   },
   "source": [
    "**b. Quelle est la hauteur de l'arbre ?**"
   ]
  },
  {
   "cell_type": "markdown",
   "metadata": {
    "id": "f-Wws4ddTQE8"
   },
   "source": [
    "Réponse : "
   ]
  },
  {
   "cell_type": "markdown",
   "metadata": {
    "id": "KrJ7sBwQTQE8"
   },
   "source": [
    "**c. Quelle est la profondeur du nœud (5,4) ? Qu'est-ce que cette profondeur représente dans notre problème ?**   \n",
    "  Réponse :\n"
   ]
  },
  {
   "cell_type": "markdown",
   "metadata": {
    "id": "ct5FV27uTQE9"
   },
   "source": [
    "- Quel est le parcours qui donne le chemin le plus court pour trouver la sortie? "
   ]
  },
  {
   "cell_type": "markdown",
   "metadata": {
    "id": "WIPU8urNTQE9"
   },
   "source": [
    "Réponse : "
   ]
  },
  {
   "cell_type": "markdown",
   "metadata": {
    "id": "TsHufyWMTQE9"
   },
   "source": [
    "- Aurions-nous pu trouver un chemin plus rapide?"
   ]
  },
  {
   "cell_type": "markdown",
   "metadata": {
    "id": "hRful30XTQE9"
   },
   "source": [
    "Réponse : "
   ]
  },
  {
   "cell_type": "markdown",
   "metadata": {
    "id": "h-7sjVaSTQE9"
   },
   "source": [
    "# 💡"
   ]
  },
  {
   "cell_type": "markdown",
   "metadata": {
    "id": "1hO340ZPTQE9"
   },
   "source": [
    "La structure d'arbre n'est pas adaptée à la recherche de chemins, ou de plus court chemin. Nous verrons plus tard comment résoudre ce problème avec des parcours de graphe."
   ]
  },
  {
   "cell_type": "markdown",
   "metadata": {
    "id": "C-OAeEOaTQE-"
   },
   "source": [
    "### <span style=\"color:navy\">4. Le parcours préfixe </span>"
   ]
  },
  {
   "cell_type": "markdown",
   "metadata": {
    "id": "PjWciDrpTQE-"
   },
   "source": [
    "On donne le pseudo-code suivant :"
   ]
  },
  {
   "cell_type": "markdown",
   "metadata": {
    "id": "dcHx_pteTQE-"
   },
   "source": [
    "fonction parcours_prefixe(arbre) :\n",
    "      si arbre ≠ None :\n",
    "      affiche arbre.valeur\n",
    "      parcours_prefixe(arbre.gauche)\n",
    "      parcours_prefixe(arbre.droit)"
   ]
  },
  {
   "cell_type": "markdown",
   "metadata": {
    "id": "HIm4Vwn6TQE-"
   },
   "source": [
    "Compléter le code suivant, et le tester pour `arbre1`.  \n",
    "Vérifier à la main, en utilisant la technique du 2.  que le résultat est bien correct."
   ]
  },
  {
   "cell_type": "code",
   "execution_count": 5,
   "metadata": {
    "id": "bfzTEZyITQE-"
   },
   "outputs": [
    {
     "name": "stdout",
     "output_type": "stream",
     "text": [
      "A\n",
      "B\n",
      "D\n",
      "G\n",
      "E\n",
      "C\n",
      "F\n",
      "None\n"
     ]
    }
   ],
   "source": [
    "def parcours_prefixe(arbre):\n",
    "    if arbre != None:\n",
    "        print(arbre.valeur)\n",
    "        parcours_prefixe(arbre.gauche)\n",
    "        parcours_prefixe(arbre.droit)\n",
    "\n",
    "\n",
    "arbre1 = Arbre(\"A\")\n",
    "arbre1.ajout_gauche(\"B\")\n",
    "arbre1.ajout_droit(\"C\")\n",
    "arbre1.gauche.ajout_gauche(\"D\")\n",
    "arbre1.gauche.ajout_droit(\"E\")\n",
    "arbre1.gauche.gauche.ajout_droit(\"G\")\n",
    "arbre1.droit.ajout_gauche(\"F\")\n",
    "print(parcours_prefixe(arbre1))"
   ]
  },
  {
   "cell_type": "markdown",
   "metadata": {
    "id": "8i_jxY-HTQE-"
   },
   "source": [
    "#  💡\n",
    "La solution ci-dessous donne un affichage plus élaboré, grâce à l'ajout du apramètre `n` qui permet de réaliser des indentations dans l'affichage."
   ]
  },
  {
   "cell_type": "code",
   "execution_count": 6,
   "metadata": {
    "id": "QKRdoBJmTQE_"
   },
   "outputs": [
    {
     "name": "stdout",
     "output_type": "stream",
     "text": [
      " -- A\n",
      "    -- B\n",
      "       -- D\n",
      "          -- G\n",
      "       -- E\n",
      "    -- C\n",
      "       -- F\n",
      "None\n"
     ]
    }
   ],
   "source": [
    "def parcours_prefixe(arbre,n=0):\n",
    "    if arbre != None:\n",
    "        print(\"   \"*n,'--',arbre.valeur)\n",
    "        parcours_prefixe(arbre.gauche,n+1)\n",
    "        parcours_prefixe(arbre.droit,n+1)\n",
    "\n",
    "\n",
    "arbre1 = Arbre(\"A\")\n",
    "arbre1.ajout_gauche(\"B\")\n",
    "arbre1.ajout_droit(\"C\")\n",
    "arbre1.gauche.ajout_gauche(\"D\")\n",
    "arbre1.gauche.ajout_droit(\"E\")\n",
    "arbre1.gauche.gauche.ajout_droit(\"G\")\n",
    "arbre1.droit.ajout_gauche(\"F\")\n",
    "print(parcours_prefixe(arbre1))\n"
   ]
  },
  {
   "cell_type": "markdown",
   "metadata": {
    "id": "cOVrQ_H_TQE_"
   },
   "source": [
    "**<span style=\"background-color:yellow\">A retenir :   \n",
    "préfixe : RGD (racine, sous-arbre gauche, sous-arbre droit)  \n",
    "Racine en 1er</span>**"
   ]
  },
  {
   "cell_type": "markdown",
   "metadata": {
    "id": "Mk_pCkNYTQE_"
   },
   "source": [
    "# 🤔\n",
    "#### Pour approfondir, regardons la vidéo suivante :\n",
    "👉 [Parcours préfixe](https://www.youtube.com/watch?v=YUKTRVlYrbs&feature=youtu.be)"
   ]
  },
  {
   "cell_type": "markdown",
   "metadata": {
    "id": "TS7jQZ-1TQE_"
   },
   "source": [
    "### <span style=\"color:navy\"> 5. Le parcours suffixe </span>"
   ]
  },
  {
   "cell_type": "markdown",
   "metadata": {
    "id": "w-KXwtuCTQE_"
   },
   "source": [
    "On donne le pseudo-code suivant :"
   ]
  },
  {
   "cell_type": "markdown",
   "metadata": {
    "id": "owfqAhvrTQE_"
   },
   "source": [
    "fonction parcours_suffixe(arbre) :\n",
    "      si arbre ≠ None :\n",
    "      parcours_prefixe(arbre.gauche)\n",
    "      parcours_prefixe(arbre.droit)\n",
    "      affiche arbre.valeur\n",
    " "
   ]
  },
  {
   "cell_type": "markdown",
   "metadata": {
    "id": "68gu4CMHTQE_"
   },
   "source": [
    "Compléter le code suivant, et le tester pour arbre1.\n",
    "Vérifier à la main, en utilisant la technique du 2. que le résultat est bien correct."
   ]
  },
  {
   "cell_type": "code",
   "execution_count": null,
   "metadata": {
    "id": "wKqNJXSaTQFA"
   },
   "outputs": [],
   "source": [
    "def parcours_suffixe(arbre):\n",
    "    if arbre != None:\n",
    "        parcours_prefixe(arbre.gauche)\n",
    "        parcours_prefixe(arbre.droit)\n",
    "        return arbre.valeur\n",
    "\n",
    "\n",
    "arbre1 = Arbre(\"A\")\n",
    "arbre1.ajout_gauche(\"B\")\n",
    "arbre1.ajout_droit(\"C\")\n",
    "arbre1.gauche.ajout_gauche(\"D\")\n",
    "arbre1.gauche.ajout_droit(\"E\")\n",
    "arbre1.gauche.gauche.ajout_droit(\"G\")\n",
    "arbre1.droit.ajout_gauche(\"F\")\n",
    "print(parcours_suffixe(arbre1))"
   ]
  },
  {
   "cell_type": "markdown",
   "metadata": {
    "id": "xob9kZlDTQFA"
   },
   "source": [
    "#  💡\n",
    "La solution ci-dessous donne un affichage plus élaboré, grâce à l'ajout du apramètre `n` qui permet de réaliser des indentations dans l'affichage."
   ]
  },
  {
   "cell_type": "code",
   "execution_count": 9,
   "metadata": {
    "id": "H0TMmGYcTQFA"
   },
   "outputs": [
    {
     "name": "stdout",
     "output_type": "stream",
     "text": [
      "          --- G\n",
      "       --- D\n",
      "       --- E\n",
      "    --- B\n",
      "       --- F\n",
      "    --- C\n",
      " --- A\n",
      "None\n"
     ]
    }
   ],
   "source": [
    "def parcours_suffixe(arbre,n=0):\n",
    "    if arbre != None:\n",
    "        parcours_suffixe(arbre.gauche,n+1)\n",
    "        parcours_suffixe(arbre.droit,n+1)\n",
    "        print(\"   \"*n,\"---\",arbre.valeur)\n",
    "\n",
    "\n",
    "arbre1 = Arbre(\"A\")\n",
    "arbre1.ajout_gauche(\"B\")\n",
    "arbre1.ajout_droit(\"C\")\n",
    "arbre1.gauche.ajout_gauche(\"D\")\n",
    "arbre1.gauche.ajout_droit(\"E\")\n",
    "arbre1.gauche.gauche.ajout_droit(\"G\")\n",
    "arbre1.droit.ajout_gauche(\"F\")\n",
    "print(parcours_suffixe(arbre1))"
   ]
  },
  {
   "cell_type": "markdown",
   "metadata": {
    "id": "hC_Q5EvUTQFA"
   },
   "source": [
    "**<span style=\"background-color:yellow\">A retenir :   \n",
    "suffixe : GDR (sous-arbre gauche, sous-arbre droit, racine)  \n",
    "Racine en dernier</span>**"
   ]
  },
  {
   "cell_type": "markdown",
   "metadata": {
    "id": "wChiIvXWTQFA"
   },
   "source": [
    "### <span style=\"color:navy\">6. Le parcours infixe </span>"
   ]
  },
  {
   "cell_type": "markdown",
   "metadata": {
    "id": "lTlxPjC1TQFA"
   },
   "source": [
    "On donne le pseudo-code suivant :"
   ]
  },
  {
   "cell_type": "markdown",
   "metadata": {
    "id": "uoCA6nO6TQFA"
   },
   "source": [
    "fonction parcours_infixe(arbre) :\n",
    "      si arbre ≠ None :\n",
    "      parcours_infixe(arbre.gauche)\n",
    "      affiche arbre.valeur\n",
    "      parcours_infixe(arbre.droit)\n",
    "      "
   ]
  },
  {
   "cell_type": "markdown",
   "metadata": {
    "id": "4VNQKhu3TQFC"
   },
   "source": [
    "Compléter le code suivant, et le tester pour arbre1.\n",
    "Vérifier à la main, en utilisant la technique du 2. que le résultat est bien correct."
   ]
  },
  {
   "cell_type": "code",
   "execution_count": 11,
   "metadata": {
    "id": "WOk5_UgWTQFC"
   },
   "outputs": [
    {
     "name": "stdout",
     "output_type": "stream",
     "text": [
      "D\n",
      "G\n",
      "B\n",
      "E\n",
      "A\n",
      "F\n",
      "C\n"
     ]
    }
   ],
   "source": [
    "def parcours_infixe(arbre):\n",
    "    if arbre != None:\n",
    "        parcours_infixe(arbre.gauche)\n",
    "        print(arbre.valeur\n",
    "        parcours_infixe(arbre.droit)\n",
    "\n",
    "arbre1 = Arbre(\"A\")\n",
    "arbre1.ajout_gauche(\"B\")\n",
    "arbre1.ajout_droit(\"C\")\n",
    "arbre1.gauche.ajout_gauche(\"D\")\n",
    "arbre1.gauche.ajout_droit(\"E\")\n",
    "arbre1.gauche.gauche.ajout_droit(\"G\")\n",
    "arbre1.droit.ajout_gauche(\"F\")\n",
    "parcours_infixe(arbre1)"
   ]
  },
  {
   "cell_type": "markdown",
   "metadata": {
    "id": "ln1meYOrTQFD"
   },
   "source": [
    "#  💡\n",
    "La solution ci-dessous donne un affichage plus élaboré, grâce à l'ajout du apramètre `n` qui permet de réaliser des indentations dans l'affichage."
   ]
  },
  {
   "cell_type": "code",
   "execution_count": 12,
   "metadata": {
    "id": "TNgaQVLCTQFD"
   },
   "outputs": [
    {
     "name": "stdout",
     "output_type": "stream",
     "text": [
      "       --- D\n",
      "          --- G\n",
      "    --- B\n",
      "       --- E\n",
      " --- A\n",
      "       --- F\n",
      "    --- C\n"
     ]
    }
   ],
   "source": [
    "def parcours_infixe(arbre,n=0):\n",
    "\n",
    "    if arbre != None:\n",
    "        parcours_infixe(arbre.gauche,n+1)\n",
    "        print(\"   \"*n,\"---\",arbre.valeur)\n",
    "        parcours_infixe(arbre.droit,n+1)\n",
    "arbre1 = Arbre(\"A\")\n",
    "arbre1.ajout_gauche(\"B\")\n",
    "arbre1.ajout_droit(\"C\")\n",
    "arbre1.gauche.ajout_gauche(\"D\")\n",
    "arbre1.gauche.ajout_droit(\"E\")\n",
    "arbre1.gauche.gauche.ajout_droit(\"G\")\n",
    "arbre1.droit.ajout_gauche(\"F\")\n",
    "parcours_infixe(arbre1)"
   ]
  },
  {
   "cell_type": "markdown",
   "metadata": {
    "id": "SAuxNGeVTQFD"
   },
   "source": [
    "**<span style=\"background-color:yellow\">A retenir :   \n",
    "infixe : GRD (sous-arbre gauche, racine, sous-arbre droit)  \n",
    "Racine au milieu</span>**"
   ]
  },
  {
   "cell_type": "markdown",
   "metadata": {
    "id": "ensKZEMZTQFD"
   },
   "source": [
    "# 🤔\n",
    "#### Pour approfondir, regardons la vidéo suivante :  \n",
    "👉 [Parcours infixe](https://www.youtube.com/watch?v=D2xwk2f4WRo&feature=youtu.be)"
   ]
  },
  {
   "cell_type": "markdown",
   "metadata": {
    "id": "axIbQfy7TQFD"
   },
   "source": [
    "# ❓❓❓\n",
    "###  <span style=\"color:navy\">7. Quel parcours choisir ?</span>"
   ]
  },
  {
   "cell_type": "markdown",
   "metadata": {
    "id": "E2sfKBy6TQFD"
   },
   "source": [
    "Nous avons vu que le parcours en largeur était pertinent pour avoir des renseignements plutôt par niveau, utile par exemple si on veut connaître les personnes d'une même génération.  \n",
    "Le parcours préfixe, parcourt l'arbre en profondeur plutôt de manière descendante, et le suffixe plutôt de manière ascendante.  \n",
    "Quel est lintérêt du parcours infixe ?  \n",
    "Nous allons voir cela dans le paragraphe suivant. 😀"
   ]
  },
  {
   "cell_type": "markdown",
   "metadata": {
    "id": "hkl0zo7ETQFE"
   },
   "source": [
    "### <span style=\"color:navy\">8. Parcours infixe sur un arbre binaire de recherche.</span>"
   ]
  },
  {
   "cell_type": "markdown",
   "metadata": {
    "id": "IShEKpJDTQFE"
   },
   "source": [
    "**Le tri du bijoutier**  (d'après : [Apmep](https://www.apmep.fr/IMG/pdf/AAA10028.pdf))  \n",
    "\n",
    "Considérons le problème du bijoutier voulant trier par grosseur un tas de diamants :\n",
    "pour faire cette opération il se sert d’un tamis ce qui lui permet de séparer le tas initial\n",
    "en deux, et il recommence avec de nouveaux tamis pour chaque tas. On le comprend\n",
    "facilement l’efficacité du tri est fonction des trames des tamis utilisés.  \n",
    "Nous allons utiliser une idée similaire pour créer un arbre binaire, et pour construire les\n",
    "algorithmes permettant de le parcourir.  \n",
    "Mieux qu’un grand discours montrons la construction de l’arbre correspondant aux données  7, 3, 1, 8, 6.  \n",
    "Nous allons placer le premier élément 7 à la racine d'un arbre.  \n",
    "Principe du tamis : **pour n'mporte quel noeud**, tous les noeuds se trouvant dans son sous-arbre gauche ont une valeur inférieure, et tous ceux se trouvant dans le sous arbre droit ont une valeur supérieure. Le sous arbre gauche correspond à ce qui est passé dans les trous du tamis, et le sous-arbre droit à ce qui est resté dans le tamis.  \n",
    "- 3 < 7 donc  3 est fils gauche de 7  \n",
    "- 1 < 3 donc 1 est fils gauche de 3  \n",
    "- 8 > 7 donc 8 est fils droit de 7. (on ne peut pas mettre 8 comme fils droit de 3, car sinon 8 serait dans le sous-arbre gauche de 7, ce qui est impossible car ce sous-arbre ne doit contenir que des nombres inférieurs à 7).  \n",
    "-  6 > 3 et 6 < 7 donc 6  est fils droit de 3.\n",
    "\n",
    "  \n",
    "On obtient l'arbre suivant :"
   ]
  },
  {
   "cell_type": "code",
   "execution_count": 30,
   "metadata": {
    "id": "uSrLgdupTQFE"
   },
   "outputs": [
    {
     "name": "stdout",
     "output_type": "stream",
     "text": [
      "Defaulting to user installation because normal site-packages is not writeable\n",
      "Requirement already satisfied: binarytree in c:\\users\\ccrouan\\appdata\\roaming\\python\\python39\\site-packages (6.5.1)\n",
      "Requirement already satisfied: setuptools-scm[toml]>=5.0.1 in c:\\users\\ccrouan\\appdata\\roaming\\python\\python39\\site-packages (from binarytree) (7.1.0)\n",
      "Requirement already satisfied: graphviz in c:\\users\\ccrouan\\appdata\\roaming\\python\\python39\\site-packages (from binarytree) (0.20.1)\n",
      "Requirement already satisfied: setuptools>=60.8.2 in c:\\programdata\\anaconda3\\lib\\site-packages (from binarytree) (61.2.0)\n",
      "Requirement already satisfied: packaging>=20.0 in c:\\programdata\\anaconda3\\lib\\site-packages (from setuptools-scm[toml]>=5.0.1->binarytree) (21.3)\n",
      "Requirement already satisfied: typing-extensions in c:\\programdata\\anaconda3\\lib\\site-packages (from setuptools-scm[toml]>=5.0.1->binarytree) (4.1.1)\n",
      "Requirement already satisfied: tomli>=1.0.0 in c:\\programdata\\anaconda3\\lib\\site-packages (from setuptools-scm[toml]>=5.0.1->binarytree) (1.2.2)\n",
      "Requirement already satisfied: pyparsing!=3.0.5,>=2.0.2 in c:\\programdata\\anaconda3\\lib\\site-packages (from packaging>=20.0->setuptools-scm[toml]>=5.0.1->binarytree) (3.0.4)\n"
     ]
    },
    {
     "ename": "ModuleNotFoundError",
     "evalue": "No module named 'binarytree'",
     "output_type": "error",
     "traceback": [
      "\u001b[1;31m---------------------------------------------------------------------------\u001b[0m",
      "\u001b[1;31mModuleNotFoundError\u001b[0m                       Traceback (most recent call last)",
      "Input \u001b[1;32mIn [30]\u001b[0m, in \u001b[0;36m<cell line: 3>\u001b[1;34m()\u001b[0m\n\u001b[0;32m      1\u001b[0m \u001b[38;5;66;03m# Supprimer le # de la ligne suivante si vous travaillez sur Colaboratory\u001b[39;00m\n\u001b[0;32m      2\u001b[0m get_ipython()\u001b[38;5;241m.\u001b[39msystem(\u001b[38;5;124m'\u001b[39m\u001b[38;5;124mpip install binarytree\u001b[39m\u001b[38;5;124m'\u001b[39m)\n\u001b[1;32m----> 3\u001b[0m \u001b[38;5;28;01mfrom\u001b[39;00m \u001b[38;5;21;01mbinarytree\u001b[39;00m \u001b[38;5;28;01mimport\u001b[39;00m Node\n\u001b[0;32m      5\u001b[0m \u001b[38;5;66;03m# Créer un arbre\u001b[39;00m\n\u001b[0;32m      6\u001b[0m arbre \u001b[38;5;241m=\u001b[39m Node(\u001b[38;5;241m7\u001b[39m)\n",
      "\u001b[1;31mModuleNotFoundError\u001b[0m: No module named 'binarytree'"
     ]
    }
   ],
   "source": [
    "# Supprimer le # de la ligne suivante si vous travaillez sur Colaboratory\n",
    "!pip install binarytree\n",
    "from binarytree import Node\n",
    "\n",
    "# Créer un arbre\n",
    "arbre = Node(7)\n",
    "arbre.left = Node(3)\n",
    "arbre.left.left = Node(1)\n",
    "arbre.right = Node(8)\n",
    "arbre.left.right = Node(6)\n",
    "\n",
    "\n",
    "print(arbre)"
   ]
  },
  {
   "cell_type": "code",
   "execution_count": null,
   "metadata": {},
   "outputs": [],
   "source": []
  },
  {
   "cell_type": "markdown",
   "metadata": {
    "id": "fXeprriATQFE"
   },
   "source": [
    "Nous venons de crée un ***arbre binaire de recherche***\n",
    "Nous reviendrons plus tard  en détail sur cette structure de données."
   ]
  },
  {
   "cell_type": "markdown",
   "metadata": {
    "id": "XeaqcZsoTQFE"
   },
   "source": [
    "Reprenons cet exemple et implémentons le avec la classe Arbre du début.  \n",
    "Compléter ci-dessous"
   ]
  },
  {
   "cell_type": "code",
   "execution_count": 14,
   "metadata": {
    "id": "AIF8pH_tTQFF"
   },
   "outputs": [],
   "source": [
    "class Arbre:\n",
    "    def __init__(self, val):\n",
    "        self.valeur = val\n",
    "        self.gauche = None\n",
    "        self.droit = None\n",
    "\n",
    "    def ajout_gauche(self,val):\n",
    "        self.gauche = Arbre(val)\n",
    "\n",
    "    def ajout_droit(self,val):\n",
    "        self.droit = Arbre(val)\n",
    "        \n",
    "# Compléter ci-dessous\n",
    "abr = Arbre(7)\n",
    "\n"
   ]
  },
  {
   "cell_type": "markdown",
   "metadata": {
    "id": "Bztt5aa1TQFF"
   },
   "source": [
    "Appliquons maintenant le parcours infixe à `abr`"
   ]
  },
  {
   "cell_type": "code",
   "execution_count": 16,
   "metadata": {
    "id": "e0SU2xR8TQFF"
   },
   "outputs": [
    {
     "name": "stdout",
     "output_type": "stream",
     "text": [
      "7\n"
     ]
    }
   ],
   "source": [
    "def parcours_infixe(arbre):\n",
    "\n",
    "    if arbre != None:\n",
    "        parcours_infixe(arbre.gauche)\n",
    "        print(arbre.valeur)\n",
    "        parcours_infixe(arbre.droit)\n",
    "        \n",
    "parcours_infixe(abr)"
   ]
  },
  {
   "cell_type": "markdown",
   "metadata": {
    "id": "lojXmKPFTQFF"
   },
   "source": [
    "On constate que l'on obtient les noeuds triés.  \n",
    "# 😃\n",
    "**<span style=\"background-color:yellow\">Le parcours infixe sur un arbre binaire de recherche trie les noeuds de cet arbre.</span>**\n",
    "  \n",
    "C'est un des très grands intérêts des arbres binaires de recheche, et du parcours infixe."
   ]
  },
  {
   "cell_type": "markdown",
   "metadata": {
    "id": "yTai_qCbTQFF"
   },
   "source": [
    "***Auteurs : Mireille COILHAC et Valérie MOUSSEAUX et Jean-Louis THIROT***    \n",
    "Ce document est sous licence Creative Commons  Attribution - Pas d’Utilisation Commerciale - \n",
    "Partage dans les Mêmes Conditions 4.0 International.  \n",
    "[lien vers la licence](https://creativecommons.org/licenses/by-nc-sa/4.0/deed.fr)  \n",
    "Sources :  \n",
    "Manuel NSI : Numériques et sciences informatiques, auteur Serge Bays, collection prépas sciences, ellipses  \n",
    "Irem de Lyon"
   ]
  }
 ],
 "metadata": {
  "colab": {
   "name": "cours_parcours_arbres_sujet V2.ipynb",
   "provenance": []
  },
  "kernelspec": {
   "display_name": "Python 3 (ipykernel)",
   "language": "python",
   "name": "python3"
  },
  "language_info": {
   "codemirror_mode": {
    "name": "ipython",
    "version": 3
   },
   "file_extension": ".py",
   "mimetype": "text/x-python",
   "name": "python",
   "nbconvert_exporter": "python",
   "pygments_lexer": "ipython3",
   "version": "3.9.12"
  }
 },
 "nbformat": 4,
 "nbformat_minor": 1
}
