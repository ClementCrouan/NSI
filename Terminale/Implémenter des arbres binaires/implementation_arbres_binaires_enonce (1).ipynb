{
 "cells": [
  {
   "cell_type": "markdown",
   "metadata": {},
   "source": [
    "# Les arbres binaires"
   ]
  },
  {
   "cell_type": "markdown",
   "metadata": {},
   "source": [
    "## 1. exemple d'utilisation d'un arbre binaire"
   ]
  },
  {
   "cell_type": "markdown",
   "metadata": {},
   "source": [
    "On donne ci-dessous le tableau caractérisant un arbre. SAG signifie sous-arbre gauche, et SAD sous arbre-droit.  \n"
   ]
  },
  {
   "cell_type": "markdown",
   "metadata": {},
   "source": [
    "| Nœud | Etiquette | Nœud du SAG | Nœud du SAD | \n",
    "| :--: | :--:      |  :--:       |  :--:       |\n",
    "| 1    | *         |2            | 3           |  \n",
    "| 2    | +         |4            | 5           | \n",
    "| 3    | -         |6            | 7           | \n",
    "| 4    | 3         |             |             | \n",
    "| 5    | /         |8            | 9           | \n",
    "| 6    | 8         |             |             | \n",
    "| 7    | *         |10           | 11          | \n",
    "| 8    | 4         |             |             | \n",
    "| 9    | 2         |             |             | \n",
    "| 10   | 2         |             |             | \n",
    "| 11   | 3         |             |             | "
   ]
  },
  {
   "cell_type": "markdown",
   "metadata": {},
   "source": [
    "1. Représenter à la main sur votre cahier cet arbre"
   ]
  },
  {
   "cell_type": "markdown",
   "metadata": {},
   "source": [
    "2. Ecrire l'expression mathématique calculée par cet arbre:  "
   ]
  },
  {
   "cell_type": "markdown",
   "metadata": {},
   "source": [
    "Réponse :(3+4/2)(8-2*3) = 5 * 2 = 10"
   ]
  },
  {
   "cell_type": "markdown",
   "metadata": {},
   "source": [
    "***Nous avons vu que les arbres binaires étaient un type abstrait. Il existe donc de nombreuses implémentations possibles.***"
   ]
  },
  {
   "cell_type": "markdown",
   "metadata": {},
   "source": [
    "## 2. Une première possibilité d'implémentation"
   ]
  },
  {
   "cell_type": "markdown",
   "metadata": {},
   "source": [
    "### a. Observez bien l'implémentation proposée suivante. Quelle est sa particularité?"
   ]
  },
  {
   "cell_type": "code",
   "execution_count": 8,
   "metadata": {},
   "outputs": [],
   "source": [
    "class Arbre:\n",
    "    def __init__(self, val):\n",
    "        self.valeur = val\n",
    "        self.gauche = None\n",
    "        self.droit = None\n",
    "    \n",
    "    def ajout_gauche(self,val):\n",
    "        self.gauche = Arbre(val)\n",
    "          \n",
    "    def ajout_droit(self,val):\n",
    "        self.droit = Arbre(val) \n",
    "        \n"
   ]
  },
  {
   "cell_type": "markdown",
   "metadata": {},
   "source": [
    "Réponse :"
   ]
  },
  {
   "cell_type": "markdown",
   "metadata": {},
   "source": [
    "On donne les instructions suivantes. Représenter sur votre cahier, à la main, l'arbre que cela a créé."
   ]
  },
  {
   "cell_type": "code",
   "execution_count": 2,
   "metadata": {},
   "outputs": [],
   "source": [
    "arbre1 = Arbre(\"A\")\n",
    "arbre1.ajout_gauche(\"B\")\n",
    "arbre1.ajout_droit(\"C\")\n",
    "arbre1.gauche.ajout_gauche(\"D\")\n",
    "arbre1.gauche.ajout_droit(\"E\")\n",
    "arbre1.gauche.gauche.ajout_droit(\"G\")\n",
    "arbre1.droit.ajout_gauche(\"F\")"
   ]
  },
  {
   "cell_type": "markdown",
   "metadata": {},
   "source": [
    "**Remarque** : on aurait pu écrire, de façon moins condensée : "
   ]
  },
  {
   "cell_type": "code",
   "execution_count": 3,
   "metadata": {},
   "outputs": [],
   "source": [
    "arbre1 = Arbre(\"A\")\n",
    "arbre1.ajout_gauche(\"B\")\n",
    "arbre1.ajout_droit(\"C\")\n",
    "arbre1g = arbre1.gauche\n",
    "arbre1g.ajout_gauche(\"D\")\n",
    "arbre1g.ajout_droit(\"E\")\n",
    "arbre1gg = arbre1g.gauche\n",
    "arbre1gg.ajout_droit(\"G\")\n",
    "arbre1d = arbre1.droit\n",
    "arbre1d.ajout_gauche(\"F\")"
   ]
  },
  {
   "cell_type": "markdown",
   "metadata": {},
   "source": [
    "### b. La taille d'un arbre est son nombre de noeuds.  \n",
    "Voici une fonction qui renvoie la taille d'un arbre:"
   ]
  },
  {
   "cell_type": "code",
   "execution_count": 4,
   "metadata": {},
   "outputs": [
    {
     "name": "stdout",
     "output_type": "stream",
     "text": [
      "7\n"
     ]
    }
   ],
   "source": [
    "def taille(arbre):\n",
    "    if arbre is None:\n",
    "        return 0\n",
    "    else :\n",
    "        return 1 + taille(arbre.gauche) + taille(arbre.droit)\n",
    "print(taille(arbre1))\n"
   ]
  },
  {
   "cell_type": "markdown",
   "metadata": {},
   "source": [
    "### c. Hauteur d'un arbre binaire "
   ]
  },
  {
   "cell_type": "markdown",
   "metadata": {},
   "source": [
    "La hauteur d'un arbre est le nombre maximal de noeuds se trouvant entre la racine (comprise) et une feuille (comprise).   \n",
    "Voici une fonction qui renvoie la hauteur d'un arbre binaire :"
   ]
  },
  {
   "cell_type": "code",
   "execution_count": 5,
   "metadata": {},
   "outputs": [
    {
     "name": "stdout",
     "output_type": "stream",
     "text": [
      "4\n"
     ]
    }
   ],
   "source": [
    "def hauteur(arbre):\n",
    "    if arbre is None:\n",
    "        return 0\n",
    "    else:\n",
    "        return 1 + max(hauteur(arbre.gauche),hauteur(arbre.droit))\n",
    "print(hauteur(arbre1))"
   ]
  },
  {
   "cell_type": "markdown",
   "metadata": {},
   "source": [
    "## 3. Une deuxième implémentation possible"
   ]
  },
  {
   "cell_type": "markdown",
   "metadata": {},
   "source": [
    "### a. Un arbre est constitué d'un noeud, d'un sous-arbre gauche et d'un sous-arbre droit."
   ]
  },
  {
   "cell_type": "code",
   "execution_count": 6,
   "metadata": {},
   "outputs": [],
   "source": [
    "class binTree:\n",
    "    def __init__(self, data, left = None, right = None):\n",
    "        self._data = data # Etiquette\n",
    "        self._left = left # Sous-arbre gauche ou None\n",
    "        self._right = right # Sous-arbre droit ou None\n",
    "        \n",
    "    def set_left(self, left = None):\n",
    "        self._left = left\n",
    "        \n",
    "    def left(self):\n",
    "        return self._left\n",
    "    \n",
    "    def set_right(self, right = None):\n",
    "        self._right = right\n",
    "        \n",
    "    def right(self):\n",
    "        return self._right\n",
    "\n",
    "    def set_data(self, data):\n",
    "        self._data = data\n",
    "        \n",
    "    def data(self):\n",
    "        return self._data\n",
    "    \n",
    "        "
   ]
  },
  {
   "cell_type": "markdown",
   "metadata": {},
   "source": [
    "Quelles instructions faut-il écrire pour implémenter le même arbre que dans le 1.?  \n",
    "Compléter ci-dessous"
   ]
  },
  {
   "cell_type": "code",
   "execution_count": 7,
   "metadata": {},
   "outputs": [],
   "source": [
    "arbre_2 = binTree(\"A\")\n",
    "arbre_2.set_left(binTree(\"B\")) # Attention à bien utiliser des types binTree\n",
    "\n",
    "                         "
   ]
  },
  {
   "cell_type": "markdown",
   "metadata": {},
   "source": [
    "### b. la taille d'un arbre  \n",
    "En procédant de manière analogue à celle du 1.b., Ecrire ci-dessous une fonction qui renvoie la taille d'un arbre"
   ]
  },
  {
   "cell_type": "code",
   "execution_count": null,
   "metadata": {},
   "outputs": [],
   "source": [
    "def size(arbre):\n",
    "    pass\n",
    "\n",
    "print(size(arbre_2))"
   ]
  },
  {
   "cell_type": "markdown",
   "metadata": {},
   "source": [
    "### c. Hauteur d'un arbre"
   ]
  },
  {
   "cell_type": "markdown",
   "metadata": {},
   "source": [
    "En procédant de manière analogue à celle du 1.c., Ecrire ci-dessous une fonction qui renvoie la hauteur d'un arbre"
   ]
  },
  {
   "cell_type": "code",
   "execution_count": null,
   "metadata": {},
   "outputs": [],
   "source": [
    "def hauteur(arbre):\n",
    "    pass\n",
    "\n",
    "print(hauteur(arbre_2))        \n",
    "    "
   ]
  },
  {
   "cell_type": "markdown",
   "metadata": {},
   "source": [
    "<font size=\"2\">Mireille COILHAC  </font>  \n",
    "<font size=\"1\">  Ce document est sous Licence Creative Commons Attribution - Pas d’Utilisation Commerciale - Partage dans les Mêmes Conditions 3.0 France.\n",
    "[https://creativecommons.org/licenses/by-nc-sa/3.0/fr/] </font>"
   ]
  }
 ],
 "metadata": {
  "kernelspec": {
   "display_name": "Python 3 (ipykernel)",
   "language": "python",
   "name": "python3"
  },
  "language_info": {
   "codemirror_mode": {
    "name": "ipython",
    "version": 3
   },
   "file_extension": ".py",
   "mimetype": "text/x-python",
   "name": "python",
   "nbconvert_exporter": "python",
   "pygments_lexer": "ipython3",
   "version": "3.9.12"
  }
 },
 "nbformat": 4,
 "nbformat_minor": 4
}
