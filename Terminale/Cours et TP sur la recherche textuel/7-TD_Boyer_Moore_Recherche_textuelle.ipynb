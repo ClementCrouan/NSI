{
 "cells": [
  {
   "cell_type": "markdown",
   "metadata": {
    "id": "VhvU1iDtn7Vs"
   },
   "source": [
    "# TP - Recherche textuelle : algorithme de Boyer Moore - Horspool en python"
   ]
  },
  {
   "cell_type": "markdown",
   "metadata": {
    "id": "Ang8VSW6opsB"
   },
   "source": [
    "**1- Création de la table de saut**"
   ]
  },
  {
   "cell_type": "markdown",
   "metadata": {
    "id": "uoWC99wirASg"
   },
   "source": [
    "Compléter les pointillés et commenter les différentes lignes de la fonction table_sauts qui donne la table des sauts d’un motif. On Utilise un dictionnaire T dont les clés sont les lettres du motif et les valeurs les sauts associés. "
   ]
  },
  {
   "cell_type": "markdown",
   "metadata": {
    "id": "YKJfVqlzo1lA"
   },
   "source": []
  },
  {
   "cell_type": "code",
   "execution_count": 1,
   "metadata": {
    "executionInfo": {
     "elapsed": 301,
     "status": "ok",
     "timestamp": 1644225123385,
     "user": {
      "displayName": "Yves COUDERT",
      "photoUrl": "https://lh3.googleusercontent.com/a/default-user=s64",
      "userId": "17928178837544300220"
     },
     "user_tz": -120
    },
    "id": "rB2UASFBrPsn"
   },
   "outputs": [],
   "source": [
    "def table_sauts(motif): \n",
    "  T={}\n",
    "  i=0 \n",
    "  for lettre in motif[:-1]:\n",
    "     T[lettre]=len(motif)-i-1 \n",
    "     print(lettre, T[lettre])\n",
    "     i=i+1 \n",
    "  return T\n"
   ]
  },
  {
   "cell_type": "markdown",
   "metadata": {
    "id": "6tviduceu18g"
   },
   "source": [
    "Faites tourner la fonction table_sauts sur le motif \"'ACTGACTGACTG\" "
   ]
  },
  {
   "cell_type": "code",
   "execution_count": 2,
   "metadata": {
    "colab": {
     "base_uri": "https://localhost:8080/"
    },
    "executionInfo": {
     "elapsed": 291,
     "status": "ok",
     "timestamp": 1644225131570,
     "user": {
      "displayName": "Yves COUDERT",
      "photoUrl": "https://lh3.googleusercontent.com/a/default-user=s64",
      "userId": "17928178837544300220"
     },
     "user_tz": -120
    },
    "id": "ACGESRJrsNPI",
    "outputId": "d7a73b2b-3bc2-4cba-c1d7-794465bd14fa"
   },
   "outputs": [
    {
     "name": "stdout",
     "output_type": "stream",
     "text": [
      "A 8\n",
      "C 7\n",
      "T 6\n",
      "A 5\n",
      "A 4\n",
      "C 3\n",
      "T 2\n",
      "A 1\n"
     ]
    },
    {
     "data": {
      "text/plain": [
       "{'A': 1, 'C': 3, 'T': 2}"
      ]
     },
     "execution_count": 2,
     "metadata": {},
     "output_type": "execute_result"
    }
   ],
   "source": [
    "table_sauts(\"ACTAACTAG\")"
   ]
  },
  {
   "cell_type": "markdown",
   "metadata": {
    "id": "g754k-pDqp51"
   },
   "source": [
    "**2- Etude d'une fonction boyer_moore_horspool**"
   ]
  },
  {
   "cell_type": "markdown",
   "metadata": {
    "id": "ksH3jPJ7wyKu"
   },
   "source": [
    "On vous propose le code de la fonction boyer_moore_horspool qui renvoie une liste,des positions du motif dans le texte. Commenter ce programme et faire la docstring et l’assert."
   ]
  },
  {
   "cell_type": "code",
   "execution_count": 3,
   "metadata": {
    "id": "y1YTk6hIxB-I"
   },
   "outputs": [],
   "source": [
    "def boyer_moore_horspool(texte, motif): \n",
    "  size = len(texte) \n",
    "  taille = len(motif) \n",
    "  positions = [] \n",
    "  if(taille<=size): \n",
    "    decalage = table_sauts(motif) \n",
    "    i=0 \n",
    "    trouve=False \n",
    "    while(i<=size-taille): \n",
    "      for j in range (taille-1,-1,-1): \n",
    "        trouve=True \n",
    "        if (texte[i+j]!=motif[j]): \n",
    "           if (texte[i+j] in decalage and decalage[texte[i+j]]<=j): \n",
    "            i+=decalage[texte[i+j]] \n",
    "           else: \n",
    "              i+=j+1 \n",
    "           trouve=False \n",
    "           break \n",
    "      if (trouve): \n",
    "        positions.append(i) \n",
    "        i=i+1 \n",
    "        trouve=False\n",
    "  return positions\n"
   ]
  },
  {
   "cell_type": "markdown",
   "metadata": {
    "id": "96BTM1Ay0zAX"
   },
   "source": [
    "Tester la fonction boyer_moore_horspool avec le texte \"abracadabra\" et les motifs \"dab\" et \"cabra\"."
   ]
  },
  {
   "cell_type": "code",
   "execution_count": 4,
   "metadata": {
    "id": "fzwSZvIh2se_",
    "outputId": "23a90b14-59d8-4547-902f-fb5eb16e2640"
   },
   "outputs": [
    {
     "name": "stdout",
     "output_type": "stream",
     "text": [
      "b 2\n",
      "r 1\n",
      "[1, 8]\n"
     ]
    }
   ],
   "source": [
    "print(boyer_moore_horspool(\"abracadabra\" ,\"bra\"))\n"
   ]
  },
  {
   "cell_type": "markdown",
   "metadata": {
    "id": "I02QS88Tr0L-"
   },
   "source": [
    "**3- Temps d'exécution de la fonction boyer_moore_horspool**"
   ]
  },
  {
   "cell_type": "markdown",
   "metadata": {
    "id": "IrGKso5vj0KS"
   },
   "source": [
    "Compléter les pointillés et commenter la fonction temps_temps_boyer_moore_horspoool qui renvoie le temps de recherche de toutes les occurrences d’un motif dans un texte avec l’algorithme Boyer-Moore-Horspool"
   ]
  },
  {
   "cell_type": "code",
   "execution_count": 5,
   "metadata": {
    "id": "eJCgQh7VkpvH"
   },
   "outputs": [],
   "source": [
    "import time\n",
    "def temps_boyer_moore_horspool(texte,motif):\n",
    "  t_debut = time.time()\n",
    "  g = boyer_moore_horspool(texte, motif)\n",
    "  t_fin = time.time() - t_debut\n",
    "  return t_fin"
   ]
  },
  {
   "cell_type": "markdown",
   "metadata": {
    "id": "JKYoPv0h7hyN"
   },
   "source": [
    "Tester la fonction pour le texte 'A'10**6 et le motif 'A'10*3+'B'\n"
   ]
  },
  {
   "cell_type": "code",
   "execution_count": 6,
   "metadata": {
    "id": "WiBJZZEv7oOi",
    "scrolled": true
   },
   "outputs": [
    {
     "name": "stdout",
     "output_type": "stream",
     "text": [
      "0.0\n"
     ]
    }
   ],
   "source": [
    "print(temps_boyer_moore_horspool(\"'A'10*6\",\"'A'103+'B'\"))"
   ]
  },
  {
   "cell_type": "code",
   "execution_count": 13,
   "metadata": {
    "id": "0yZY8ATX7tmy"
   },
   "outputs": [
    {
     "name": "stdout",
     "output_type": "stream",
     "text": [
      "b 2\n",
      "r 1\n",
      "0.0009925365447998047\n"
     ]
    }
   ],
   "source": [
    "print(temps_boyer_moore_horspool(\"abracadabraabracadabraabracadabraabracadabraabracadabraabracadabraabracadabraabracadabraabracadabraabracadabraabracadabraabracadabraabracadabraabracadabraabracadabraabracadabraabracadabraabracadabra\" ,\"bra\"))"
   ]
  },
  {
   "cell_type": "markdown",
   "metadata": {
    "id": "elSzuj0ZsSVt"
   },
   "source": [
    "**4- Comparaison temps d'execution de la fonction boyer_moore_horspool et la fonction recherche_naive**"
   ]
  },
  {
   "cell_type": "markdown",
   "metadata": {
    "id": "Lsz5NJsXm34n"
   },
   "source": [
    "On veut comparer le temps d'execution de la fonction boyer_moore_horspool avec celui la fonction recherche_naive donnée ci-dessous."
   ]
  },
  {
   "cell_type": "code",
   "execution_count": 7,
   "metadata": {
    "id": "f_Ee_nwXnVHX"
   },
   "outputs": [],
   "source": [
    "def recherche_naive(texte,motif): \n",
    "  ''' In : motif une chaine de caractère à chercher dans texte (le texte) Out : le nombre d'occurrences du mot cherché (0 si aucun)''' \n",
    "  assert len(motif) <= len(texte) \n",
    "  m=len(motif) \n",
    "  n=len(texte) \n",
    "  compteur=0 \n",
    "  for s in range(n-m+1) :\n",
    "     if motif==texte[s:s+m]:\n",
    "        compteur=compteur+1 \n",
    "        print(\"Le motif est trouvé avec le décalage\",s, \", nombre d'occurrences =\", compteur) \n",
    "  return compteur"
   ]
  },
  {
   "cell_type": "markdown",
   "metadata": {
    "id": "z_6IdQMOn9v9"
   },
   "source": [
    "Ecrire une fonction temps_compare qui compare les temps d'execution des fonctions boyer_moore_horspoool et recherche_naive "
   ]
  },
  {
   "cell_type": "code",
   "execution_count": 19,
   "metadata": {
    "id": "JPGmFetKpqPQ"
   },
   "outputs": [],
   "source": [
    "def temps_compare(texte, motif):\n",
    "    t_debut = time.time()\n",
    "    g = boyer_moore_horspool(texte, motif)\n",
    "    t_fin = time.time() - t_debut\n",
    "    t_debut2 = time.time()\n",
    "    g = recherche_naive(texte, motif)\n",
    "    t_fin2 = time.time() - t_debut2\n",
    "    return t_fin, t_fin2"
   ]
  },
  {
   "cell_type": "markdown",
   "metadata": {
    "id": "oQv4cRUGprSP"
   },
   "source": [
    "Appliquer ce programme de comparaison à la chaîne de caractère : CAATGTCTGCACCAAGACGCCGGCAGGTGCAGACCTTCGTTATAGGCGATGATTTCGAACCTACTAGTGGGTCTCTTAGGCCGAGCGGTTCCGAGAGATAGTGAAAGATGGCTGGGCTGTGAAGGGAAGGAGTCGTGAAAGCGCGAACACGAGTGTGCGCAAGCGCAGCGCCTTAGTATGCTCCAGTGTAGAAGCTCCGGCGTCCCGTCTAACCGTACGCTGTCCCCGGTACATGGAGCTAATAGGCTTTACTGCCCAATATGACCCCGCGCCGCGACAAAACAATAACAGTTTCAATGTCTGCACCAAGACGCCGGCAGGTGCAGACCTTCGTTATAGGCGATGATTTCGAACCTACTAGTGGGTCTCTTAGGCCGAGCGGTTCCGAGAGATAGTGAAAGATGGCTGGGCTGTGAAGGGAAGGAGTCGTGAAAGCGCGAACACGAGTGTGCGCAAGCGCAGCGCCTTAGTATGCTCCAGTGTAGAAGCTCCGGCGTCCCGTCTAACCGTACGCTGTCCCCGGTACATGGAGCTAATAGGCTTTACTGCCCAATATGACCCCGCGCCGCGACAAAACAATAACAGTTT\n",
    "où le motif recherché est : ACCTTCG"
   ]
  },
  {
   "cell_type": "code",
   "execution_count": 18,
   "metadata": {
    "id": "jiHO-lP2qPu9"
   },
   "outputs": [
    {
     "name": "stdout",
     "output_type": "stream",
     "text": [
      "2\n",
      "b 2\n",
      "r 1\n",
      "bonjour\n",
      "Le motif est trouvé avec le décalage 1 , nombre d'occurrences = 1\n",
      "Le motif est trouvé avec le décalage 8 , nombre d'occurrences = 2\n",
      "Le motif est trouvé avec le décalage 12 , nombre d'occurrences = 3\n",
      "Le motif est trouvé avec le décalage 19 , nombre d'occurrences = 4\n",
      "Le motif est trouvé avec le décalage 23 , nombre d'occurrences = 5\n",
      "Le motif est trouvé avec le décalage 30 , nombre d'occurrences = 6\n",
      "Le motif est trouvé avec le décalage 34 , nombre d'occurrences = 7\n",
      "Le motif est trouvé avec le décalage 41 , nombre d'occurrences = 8\n",
      "Le motif est trouvé avec le décalage 45 , nombre d'occurrences = 9\n",
      "Le motif est trouvé avec le décalage 52 , nombre d'occurrences = 10\n",
      "Le motif est trouvé avec le décalage 56 , nombre d'occurrences = 11\n",
      "Le motif est trouvé avec le décalage 63 , nombre d'occurrences = 12\n",
      "Le motif est trouvé avec le décalage 67 , nombre d'occurrences = 13\n",
      "Le motif est trouvé avec le décalage 74 , nombre d'occurrences = 14\n",
      "Le motif est trouvé avec le décalage 78 , nombre d'occurrences = 15\n",
      "Le motif est trouvé avec le décalage 85 , nombre d'occurrences = 16\n",
      "Le motif est trouvé avec le décalage 89 , nombre d'occurrences = 17\n",
      "Le motif est trouvé avec le décalage 96 , nombre d'occurrences = 18\n",
      "Le motif est trouvé avec le décalage 100 , nombre d'occurrences = 19\n",
      "Le motif est trouvé avec le décalage 107 , nombre d'occurrences = 20\n",
      "Le motif est trouvé avec le décalage 111 , nombre d'occurrences = 21\n",
      "Le motif est trouvé avec le décalage 118 , nombre d'occurrences = 22\n",
      "Le motif est trouvé avec le décalage 122 , nombre d'occurrences = 23\n",
      "Le motif est trouvé avec le décalage 129 , nombre d'occurrences = 24\n",
      "Le motif est trouvé avec le décalage 133 , nombre d'occurrences = 25\n",
      "Le motif est trouvé avec le décalage 140 , nombre d'occurrences = 26\n",
      "Le motif est trouvé avec le décalage 144 , nombre d'occurrences = 27\n",
      "Le motif est trouvé avec le décalage 151 , nombre d'occurrences = 28\n",
      "Le motif est trouvé avec le décalage 155 , nombre d'occurrences = 29\n",
      "Le motif est trouvé avec le décalage 162 , nombre d'occurrences = 30\n",
      "Le motif est trouvé avec le décalage 166 , nombre d'occurrences = 31\n",
      "Le motif est trouvé avec le décalage 173 , nombre d'occurrences = 32\n",
      "Le motif est trouvé avec le décalage 177 , nombre d'occurrences = 33\n",
      "Le motif est trouvé avec le décalage 184 , nombre d'occurrences = 34\n",
      "Le motif est trouvé avec le décalage 188 , nombre d'occurrences = 35\n",
      "Le motif est trouvé avec le décalage 195 , nombre d'occurrences = 36\n",
      "(0.0, 0.007000446319580078)\n"
     ]
    }
   ],
   "source": [
    "print(temps_compare(\"abracadabraabracadabraabracadabraabracadabraabracadabraabracadabraabracadabraabracadabraabracadabraabracadabraabracadabraabracadabraabracadabraabracadabraabracadabraabracadabraabracadabraabracadabra\" ,\"bra\"))"
   ]
  },
  {
   "cell_type": "code",
   "execution_count": null,
   "metadata": {},
   "outputs": [],
   "source": []
  }
 ],
 "metadata": {
  "colab": {
   "collapsed_sections": [],
   "name": "7-TD_Boyer_Moore_Recherche_textuelle.ipynb",
   "provenance": []
  },
  "kernelspec": {
   "display_name": "Python 3 (ipykernel)",
   "language": "python",
   "name": "python3"
  },
  "language_info": {
   "codemirror_mode": {
    "name": "ipython",
    "version": 3
   },
   "file_extension": ".py",
   "mimetype": "text/x-python",
   "name": "python",
   "nbconvert_exporter": "python",
   "pygments_lexer": "ipython3",
   "version": "3.9.12"
  }
 },
 "nbformat": 4,
 "nbformat_minor": 1
}
