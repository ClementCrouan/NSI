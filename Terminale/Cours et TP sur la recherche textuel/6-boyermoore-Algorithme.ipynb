{
 "cells": [
  {
   "cell_type": "markdown",
   "metadata": {
    "id": "8AVN2KhVUodG"
   },
   "source": [
    "# Recherche textuelle"
   ]
  },
  {
   "cell_type": "markdown",
   "metadata": {
    "id": "r4rZmH52UodK"
   },
   "source": [
    " Les algorithmes qui permettent de trouver une sous-chaine de caractères dans une chaine de caractères plus grande sont des \"grands classiques\" de l'algorithmique. On parle aussi de recherche d'un motif (sous-chaine) dans un texte. Voici un exemple :\n",
    "\n",
    "Soit le texte suivant :\n",
    "\n",
    "\"Les sanglots longs des violons de l'automne blessent mon coeur d'une langueur monotone. Tout suffocant et blême, quand sonne l'heure, je me souviens des jours anciens et je pleure.\"\n",
    "\n",
    "Question : le motif \"vio\" est-il présent dans le texte ci-dessus, si oui, en quelle(s) position(s) ? (la numérotation d'une chaine de caractères commence à zéro et les espaces sont considérés comme des caractères)\n",
    "\n",
    "Réponse : on trouve le motif \"vio\" en position 23\n",
    "\n",
    "Les algorithmes de recherche textuelle sont notamment utilisés en bioinformatique. "
   ]
  },
  {
   "cell_type": "markdown",
   "metadata": {
    "id": "Jlb9g-NlUodL"
   },
   "source": [
    "## Bioinformatique"
   ]
  },
  {
   "cell_type": "markdown",
   "metadata": {
    "id": "y72p6GzuUodL"
   },
   "source": [
    "Comme son nom l'indique, la bioinformatique est issue de la rencontre de l'informatique et de la biologie : la récolte des données en biologie a connu une très forte augmentation ces 30 dernières années. Pour analyser cette grande quantité de données de manière efficace, les scientifiques ont de plus en plus recourt au traitement automatique de l'information, c'est-à-dire à l'informatique."
   ]
  },
  {
   "cell_type": "markdown",
   "metadata": {
    "id": "RL__JEVjUodL"
   },
   "source": [
    "## Analyse de l'ADN"
   ]
  },
  {
   "cell_type": "markdown",
   "metadata": {
    "id": "5UXYUgENUodM"
   },
   "source": [
    "Comme vous le savez déjà, l'information génétique présente dans nos cellules est portée par les molécules d'ADN. Les molécules d'ADN sont, entre autres, composées de bases azotées ayant pour noms : Adénine (représenté par un A), Thymine (représenté par un T), Guanine (représenté par un G) et Cytosine (représenté par un C)."
   ]
  },
  {
   "cell_type": "markdown",
   "metadata": {
    "id": "4pqJ3CR2UodM"
   },
   "source": [
    "![image.png](attachment:image.png)"
   ]
  },
  {
   "cell_type": "markdown",
   "metadata": {
    "id": "I3OhjNUSUodN"
   },
   "source": [
    " L'information génétique est donc très souvent représentée par de très longues chaines de caractères, composées des caractères A, T, G et C. Exemple : CTATTCAGCAGTC...\n",
    "\n",
    "Il est souvent nécessaire de détecter la présence de certains enchainements de bases azotées (dans la plupart des cas un triplet de bases azotées code pour 1 acide aminé et la combinaison d'acides aminés forme une protéine). Par exemple, on peut se poser la question suivante : trouve-t-on le triplet ACG dans le brin d'ADN suivant (et si oui, en quelle position ?): "
   ]
  },
  {
   "cell_type": "code",
   "execution_count": null,
   "metadata": {
    "colab": {
     "base_uri": "https://localhost:8080/",
     "height": 238
    },
    "executionInfo": {
     "elapsed": 262,
     "status": "error",
     "timestamp": 1644223066401,
     "user": {
      "displayName": "Yves COUDERT",
      "photoUrl": "https://lh3.googleusercontent.com/a/default-user=s64",
      "userId": "17928178837544300220"
     },
     "user_tz": -120
    },
    "id": "7nujt7wHUodN",
    "outputId": "80c5f208-3f92-4819-d258-6482283c8414"
   },
   "outputs": [],
   "source": [
    "CAAGCGCACAAGACGCGGCAGACCTTCGTTATAGGCGATGATTTCGAACCTACTAGTGGGTCTCTTAGGCCGAGCGGTTCCGAGAGATAGTGAAAGATGGCTGGGCTGTGAAGGGAAGGAGTCGTGAAAGCGCGAACACGAGTGTGCGCAAGCGCAGCGCCTTAGTATGCTCCAGTGTAGAAGCTCCGGCGTCCCGTCTAACCGTACGCTGTCCCCGGTACATGGAGCTAATAGGCTTTACTGCCCAATATGACCCCGCGCCGCGACAAAACAATAACAGTTTGCTGTATGTTCCATGGTGGCCAATCCGTCTCTTTTCGACAGCACGGCCAATTCTCCTAGGAAGCCAGCTCAATTTCAACGAAGTCGGCTGTTGAACAGCGAGGTATGGCGTCGGTGGCTCTATTAGTGGTGAGCGAATTGAAATTCGGTGGCCTTACTTGTACCACAGCGATCCCTTCCCACCATTCTTATGCGTCGTCTGTTACCTGGCTTGGCAT"
   ]
  },
  {
   "cell_type": "markdown",
   "metadata": {
    "id": "20fgDhBKUodP"
   },
   "source": [
    "Nous allons commencer par le premier algorithme qui nous vient à l'esprit (on parle souvent d'algorithme \"naïf\") :"
   ]
  },
  {
   "cell_type": "markdown",
   "metadata": {
    "id": "mAxaNGW3UodP"
   },
   "source": [
    "![nsi_term_algo_boyer_2.png](attachment:nsi_term_algo_boyer_2.png)"
   ]
  },
  {
   "cell_type": "markdown",
   "metadata": {
    "id": "Hc_3rNZ1UodP"
   },
   "source": [
    "\n",
    "+ on place le motif recherché au même niveau que les 3 premiers caractères de notre chaine, le premier élément du motif ne correspond pas au premier élément de la chaine (A et C), on décale le motif d'un cran vers la droite.\n",
    "+ le premier élément du motif correspond au premier élément de la chaine (A et A) mais pas le second (C et A), on décale d'un cran vers la droite\n",
    "+ le premier élément du motif correspond au premier élément de la chaine (A et A) mais pas le second (C et G), on décale d'un cran vers la droite\n",
    "+ le premier élément du motif ne correspond pas au premier élément de la chaine (A et G), on décale d'un cran vers la droite.\n",
    "+ le premier élément du motif ne correspond pas au premier élément de la chaine (A et C), on décale d'un cran vers la droite.\n",
    "+ ...... on continue le processus jusqu'au moment où les 3 éléments du motif correspondent avec les 3 éléments de la chaine situés au même niveau.\n"
   ]
  },
  {
   "cell_type": "markdown",
   "metadata": {
    "id": "VrJSZXVYUodQ"
   },
   "source": [
    "Cet algorithme naïf peut, selon les situations demander un très grand nombre de comparaisons, ce qui peut entraîner un très long temps de \"calcul\" avec des chaines très très longues. L'algorithme de Boyer-Moore permet de faire mieux en termes de comparaisons à effectuer "
   ]
  },
  {
   "cell_type": "markdown",
   "metadata": {
    "id": "Rgp_7KBdUodQ"
   },
   "source": [
    "## Algoritme de Boyer-Moore"
   ]
  },
  {
   "cell_type": "markdown",
   "metadata": {
    "id": "w3F_s8eZUodQ"
   },
   "source": [
    " L'algorithme de Boyer-Moore se base sur les caractéristiques suivantes :\n",
    "\n",
    "+ L'algorithme effectue un prétraitement du motif. Cela signifie que l'algorithme \"connait\" les caractères qui se trouvent dans le motif\n",
    "+ on commence la comparaison motif-chaine par la droite du motif. Par exemple pour le motif CGGCAG, on compare d'abord le G, puis le A, puis C...on parcourt le motif de la droite vers la gauche\n",
    "+ Dans la méthode naïve, les décalages du motif vers la droite se faisaient toujours d'un \"cran\" à la fois. L'intérêt de l'algorithme de Boyer-Moore, c'est qu'il permet, dans certaines situations, d'effectuer un décalage de plusieurs crans en une seule fois.\n",
    "\n",
    "Examinons un exemple. Soit la chaine suivante : "
   ]
  },
  {
   "cell_type": "code",
   "execution_count": null,
   "metadata": {
    "colab": {
     "base_uri": "https://localhost:8080/",
     "height": 238
    },
    "executionInfo": {
     "elapsed": 198,
     "status": "error",
     "timestamp": 1644223085060,
     "user": {
      "displayName": "Yves COUDERT",
      "photoUrl": "https://lh3.googleusercontent.com/a/default-user=s64",
      "userId": "17928178837544300220"
     },
     "user_tz": -120
    },
    "id": "f6IrUEaiUodR",
    "outputId": "090e18c7-e2ff-471b-e1ea-ccb4afdd64e7"
   },
   "outputs": [],
   "source": [
    "CAATGTCTGCACCAAGACGCCGGCAGGTGCAGACCTTCGTTATAGGCGATGATTTCGAACCTACTAGTGGGTCTCTTAGGCCGAGCGGTTCCGAGAGATAGTGAAAGATGGCTGGGCTGTGAAGGGAAGGAGTCGTGAAAGCGCGAACACGAGTGTGCGCAAGCGCAGCGCCTTAGTATGCTCCAGTGTAGAAGCTCCGGCGTCCCGTCTAACCGTACGCTGTCCCCGGTACATGGAGCTAATAGGCTTTACTGCCCAATATGACCCCGCGCCGCGACAAAACAATAACAGTTT"
   ]
  },
  {
   "cell_type": "markdown",
   "metadata": {
    "id": "ExhB_4ZlUodR"
   },
   "source": [
    "et le motif : CGGCAG"
   ]
  },
  {
   "cell_type": "markdown",
   "metadata": {
    "id": "7HeGmEWKUodR"
   },
   "source": [
    "![nsi_term_algo_boyer_3.png](attachment:nsi_term_algo_boyer_3.png)"
   ]
  },
  {
   "cell_type": "markdown",
   "metadata": {
    "id": "FVe1k-O8UodR"
   },
   "source": [
    "+ on commence la comparaison par la droite, G et T ne correspondent pas. Le prétraitement du motif nous permet de savoir qu'il n'y a pas de T dans ce dernier, on peut décaler le motif de 6 crans vers la droite.\n",
    "+ G et C ne correspondent pas, en revanche, on trouve 2 C dans le motif. On effectue un décalage du motif de 2 crans vers la droite afin de faire correspondre le C de la chaine (encadré sur le schéma) et le C le plus à droite dans le motif.\n",
    "+ G et A ne correspondent pas, il existe un A dans le motif, on effectue un décalage d'un cran.\n",
    "+ G et A ne correspondent pas, il existe un A dans le motif, on effectue un décalage d'un cran.\n",
    "+ G et G correspondent, A et A correspondent, mais C et A ne correspondent pas. À gauche du C, il n'y a plus de A, on peut donc effectuer un décalage de 4 crans.\n",
    "+ G et C ne correspondent pas, on effectue un décalage de deux crans pour faire correspondre les C.\n",
    "+ G et G correspondent, A et C ne correspondent pas, on effectue un décalage d'un cran\n",
    "+ G et G correspondent, A et G ne correspondent pas, on effectue un décalage de 2 crans (faire correspondre les G)\n",
    "+ G et A ne correspondent pas, on effectue un décalage d'un cran\n",
    "+ toutes les lettres correspondent, on a trouvé le motif dans la chaine"
   ]
  },
  {
   "cell_type": "code",
   "execution_count": 7,
   "metadata": {
    "colab": {
     "base_uri": "https://localhost:8080/"
    },
    "executionInfo": {
     "elapsed": 105878,
     "status": "ok",
     "timestamp": 1644224132694,
     "user": {
      "displayName": "Yves COUDERT",
      "photoUrl": "https://lh3.googleusercontent.com/a/default-user=s64",
      "userId": "17928178837544300220"
     },
     "user_tz": -120
    },
    "id": "wP8zaVhuUodS",
    "outputId": "851b0af1-a329-45e6-fa66-34325f7b86ee"
   },
   "outputs": [
    {
     "name": "stdout",
     "output_type": "stream",
     "text": [
      "                                                                              !\n",
      "                                                                              ACGCA\n",
      "CAAGCGCACAAGACGCGGCAGACCTTCGTTATAGGCGATGATTTCGAACCTACTAGTGGGTCTCTTAGGCCGAGCGGTTCCGA\n",
      "                                                                              X\n",
      "78\n",
      "[]\n"
     ]
    }
   ],
   "source": [
    "from IPython.display import clear_output\n",
    "import time\n",
    "\n",
    "ADN=\"CAAGCGCACAAGACGCGGCAGACCTTCGTTATAGGCGATGATTTCGAACCTACTAGTGGGTCTCTTAGGCCGAGCGGTTCCGA\"\n",
    "motif=\"ACGCA\"\n",
    "\n",
    "\n",
    "def affiche_config(pos,point,etat):\n",
    "    clear_output()\n",
    "    for i in range(pos+point):\n",
    "        print(\" \",end=\"\")\n",
    "    print(\"!\")\n",
    "    for i in range(pos):\n",
    "        print(\" \",end=\"\")\n",
    "    print(motif)\n",
    "    print(ADN)\n",
    "    for i in range(pos+point):\n",
    "        print(\" \",end=\"\")\n",
    "    if etat:\n",
    "        print(\"\")\n",
    "    else:\n",
    "        print(\"X\")\n",
    "    print(pos)\n",
    "    time.sleep(1)\n",
    "        \n",
    "def rechercheN(txt,motif):\n",
    "    decalage=0\n",
    "    ADN=list(txt)\n",
    "    mot=list(motif)\n",
    "    pointeur=0\n",
    "    res=[]\n",
    "    affiche_config(0,0,True)\n",
    "    while (decalage<=(len(ADN)-len(motif))):\n",
    "        if ADN[decalage+pointeur]==mot[pointeur]:\n",
    "            affiche_config(decalage,pointeur,True)\n",
    "            if pointeur==(len(mot)-1):\n",
    "                res.append(decalage)      \n",
    "                affiche_config(decalage,pointeur,True)\n",
    "                decalage+=1\n",
    "                pointeur=0\n",
    "            else:\n",
    "                pointeur+=1     \n",
    "        else:\n",
    "            affiche_config(decalage,pointeur,False)\n",
    "            decalage+=1\n",
    "            pointeur=0\n",
    "    return(res)\n",
    "            \n",
    "a=rechercheN(ADN,motif)\n",
    "print(a)        \n"
   ]
  },
  {
   "cell_type": "markdown",
   "metadata": {
    "id": "3sWNFzQSUodS"
   },
   "source": [
    "### Question sur l'algorithme naif"
   ]
  },
  {
   "cell_type": "markdown",
   "metadata": {
    "id": "5SvtFqPFUodS"
   },
   "source": [
    "ajouter, dans la fonction affiche_config(), la ligne de code nécessaire pour afficher le contenu de la variable decalage à chaque itération. (Attention, decalage est passé en paramètre !). \n",
    "+ Comment évolue le contenu de la variable decalage au cours de l'exécution du programme ?\n",
    "+ A quoi correspond decalage ?\n",
    "+ Remplacer le motif à rechercher par \"ACGCA\" puis exécuter le programme. L'évolution de decalage est-elle modifiée ?\n",
    "+ A quoi correspond le point d'exclamation dans la représentation affichée ? Par quelle expression sa position est-elle calculée ?\n",
    "+ A quelle situation correspond l'affichage de la lettre X sur la simulation ? Commenter la ligne de code qui permet cet affichage (dans l'algorithme, pas dans la fonction d'affichage) et préciser à quelle condition elle est exécutée.\n",
    "+ à quoi correspond la variable res ? A quelle condition est-elle modififiée ? Commenter la ligne de code correspondant à cette modification."
   ]
  },
  {
   "cell_type": "code",
   "execution_count": 6,
   "metadata": {
    "colab": {
     "base_uri": "https://localhost:8080/"
    },
    "executionInfo": {
     "elapsed": 85821,
     "status": "ok",
     "timestamp": 1644224325260,
     "user": {
      "displayName": "Yves COUDERT",
      "photoUrl": "https://lh3.googleusercontent.com/a/default-user=s64",
      "userId": "17928178837544300220"
     },
     "user_tz": -120
    },
    "id": "zT9FRuXhUodS",
    "outputId": "966ceb1c-5a09-43d5-8c90-db698495b5b0"
   },
   "outputs": [
    {
     "name": "stdout",
     "output_type": "stream",
     "text": [
      "                                                                                 !\n",
      "                                                                              ACGCA\n",
      "CAAGCGCACAAGACGCGGCAGACCTTCGTTATAGGCGATGATTTCGAACCTACTAGTGGGTCTCTTAGGCCGAGCGGTTCCGA\n",
      "                                                                                 X\n",
      "[]\n"
     ]
    }
   ],
   "source": [
    "NO_CAR = 256\n",
    "\n",
    "def affiche_config_BM(pos,point,etat,m):\n",
    "    clear_output()\n",
    "    for i in range(pos+point):\n",
    "        print(\" \",end=\"\")\n",
    "    print(\"!\")\n",
    "    for i in range(pos):\n",
    "        print(\" \",end=\"\")\n",
    "    print(motif)\n",
    "    print(ADN)\n",
    "    for i in range(pos+point):\n",
    "        print(\" \",end=\"\")\n",
    "    if etat:\n",
    "        print(\"\")\n",
    "    else:\n",
    "        print(\"X\")\n",
    "    time.sleep(1)\n",
    "\n",
    "def rechercheBM(txt, motif):\n",
    "    m = len(motif)\n",
    "    n = len(txt)\n",
    "    tab_car = [-1]*NO_CAR\n",
    "    for i in range(m):\n",
    "        tab_car[ord(motif[i])] = i\n",
    "    decalage = 0\n",
    "    res = []\n",
    "    \n",
    "    while(decalage <= n-m):\n",
    "        j = m-1\n",
    "        affiche_config_BM(decalage,j,True,m)\n",
    "        while j>=0 and motif[j] == txt[decalage+j]:\n",
    "            j = j - 1\n",
    "            affiche_config_BM(decalage,j,True,m)\n",
    "        affiche_config_BM(decalage,j,False,m)\n",
    "        if j<0:\n",
    "            res.append(decalage)\n",
    "            if decalage+m<n :\n",
    "                decalage = decalage + m-tab_car[ord(txt[decalage+m])]\n",
    "            else :\n",
    "                decalage = decalage + 1\n",
    "        else:\n",
    "            decalage = decalage + max(1, j-tab_car[ord(txt[decalage+j])])\n",
    "        \n",
    "    return res\n",
    "\n",
    "a=rechercheBM(ADN,motif)\n",
    "print(a)"
   ]
  },
  {
   "cell_type": "markdown",
   "metadata": {
    "id": "fMepLSuMUodT"
   },
   "source": [
    "ajouter, dans la fonction affiche_config_BM(), la ligne de code nécessaire pour afficher le contenu de la variable decalage à chaque itération. (Attention, decalage est passé en paramètre !). \n",
    "+ Comment évolue le contenu de la variable decalage au cours de l'exécution du programme ?\n",
    "+ A quoi correspond decalage ?\n",
    "+ Remplacer le motif à rechercher par \"ACGCA\" puis exécuter le programme. L'évolution de decalage est-elle modifiée ?\n",
    "+ Quelle est la plus grande variation de decalage au cours d'une itération?\n",
    "+ Quelle(s) variable(s) permet(tent) de calculer la position du point d'exclamation  ?\n",
    "+ Commenter les deux lignes de code qui font évoluer le point d'exclamation dans le sens inverse de celui observé dans l'algorithme naif. Quelles sont les 2 situations possibles après l'exécution de ces deux lignes de code?\n",
    "+ à quoi correspond la variable res ? A quelle condition est-elle modififiée ? Commenter la ligne de code correspondant à cette modification."
   ]
  },
  {
   "cell_type": "code",
   "execution_count": 8,
   "metadata": {
    "id": "tycDhZG7UodT"
   },
   "outputs": [
    {
     "ename": "SyntaxError",
     "evalue": "invalid syntax (174690820.py, line 1)",
     "output_type": "error",
     "traceback": [
      "\u001b[1;36m  Input \u001b[1;32mIn [8]\u001b[1;36m\u001b[0m\n\u001b[1;33m    La variable decalage évolue à chaque fois qu'une boucle est éffectué.\u001b[0m\n\u001b[1;37m       ^\u001b[0m\n\u001b[1;31mSyntaxError\u001b[0m\u001b[1;31m:\u001b[0m invalid syntax\n"
     ]
    }
   ],
   "source": [
    "La variable decalage s'incrémente de un à chaque fois qu'une boucle est éffectué.\n",
    "Le décalage correspond à l'indice de la chaîne de charactères analysé\n",
    "Non car il y a toujours autant de terme dans la chaîne de charactères analysé\n",
    "La plus grande variation de decalage est de 78\n",
    "Les variables decalage et m permettent de calculer la position du point d'exclamation\n",
    "la variable res correspond à l'affichage, elle modifié à chaque boucle"
   ]
  },
  {
   "cell_type": "code",
   "execution_count": null,
   "metadata": {},
   "outputs": [],
   "source": []
  }
 ],
 "metadata": {
  "colab": {
   "name": "6-boyermoore-Algorithme.ipynb",
   "provenance": []
  },
  "kernelspec": {
   "display_name": "Python 3 (ipykernel)",
   "language": "python",
   "name": "python3"
  },
  "language_info": {
   "codemirror_mode": {
    "name": "ipython",
    "version": 3
   },
   "file_extension": ".py",
   "mimetype": "text/x-python",
   "name": "python",
   "nbconvert_exporter": "python",
   "pygments_lexer": "ipython3",
   "version": "3.9.12"
  }
 },
 "nbformat": 4,
 "nbformat_minor": 1
}
