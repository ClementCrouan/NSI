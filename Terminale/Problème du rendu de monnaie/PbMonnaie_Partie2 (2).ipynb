{
 "cells": [
  {
   "cell_type": "markdown",
   "metadata": {
    "collapsed": true,
    "id": "WlONG3S3BIhk"
   },
   "source": [
    "# Le rendu de monnaie en Europe Partie 2"
   ]
  },
  {
   "cell_type": "code",
   "execution_count": null,
   "metadata": {
    "collapsed": true,
    "id": "abpGJqtNBIho"
   },
   "outputs": [],
   "source": [
    "9.7*100"
   ]
  },
  {
   "cell_type": "code",
   "execution_count": null,
   "metadata": {
    "collapsed": true,
    "id": "BmsNfU-7BIhp"
   },
   "outputs": [],
   "source": [
    "round(9.7*100)"
   ]
  },
  {
   "cell_type": "markdown",
   "metadata": {
    "id": "k3QmvD4QBIhp"
   },
   "source": [
    "Rappel : Premier algorithme proposé"
   ]
  },
  {
   "cell_type": "code",
   "execution_count": null,
   "metadata": {
    "collapsed": true,
    "id": "ThtllR_cBIhq"
   },
   "outputs": [],
   "source": [
    "def rendre(somme):\n",
    "    pieces=[2,1,0.5,0.2,0.1,0.05,0.02,0.01]\n",
    "    rendre=somme\n",
    "    liste=[]\n",
    "    for piece in pieces:\n",
    "        while rendre>=piece:\n",
    "            liste.append(piece)\n",
    "            rendre=rendre-piece\n",
    "    return liste"
   ]
  },
  {
   "cell_type": "markdown",
   "metadata": {
    "id": "RFmiRSA8BIhq"
   },
   "source": [
    "A vous de jouer!\n",
    "\n",
    "Proposez ci-dessous un algorithme qui corrige ce défaut"
   ]
  },
  {
   "cell_type": "code",
   "execution_count": 1,
   "metadata": {
    "executionInfo": {
     "elapsed": 4,
     "status": "ok",
     "timestamp": 1644503113350,
     "user": {
      "displayName": "Yves COUDERT",
      "photoUrl": "https://lh3.googleusercontent.com/a/default-user=s64",
      "userId": "17928178837544300220"
     },
     "user_tz": -120
    },
    "id": "N4AISMs5BIhr"
   },
   "outputs": [],
   "source": [
    "\n",
    "def rendre(somme):\n",
    "    pieces=[2,1,0.5,0.2,0.1,0.05,0.02,0.01]\n",
    "    rendre=somme\n",
    "    liste=[]\n",
    "    for piece in pieces:\n",
    "        while rendre>=piece:\n",
    "            liste.append(piece)\n",
    "            rendre=round(rendre-piece,2)\n",
    "    return liste"
   ]
  },
  {
   "cell_type": "markdown",
   "metadata": {
    "id": "QWEKv_81BIhr"
   },
   "source": [
    "Vous devez tester votre solution avec les assertions ci-dessous. "
   ]
  },
  {
   "cell_type": "code",
   "execution_count": 2,
   "metadata": {
    "executionInfo": {
     "elapsed": 5,
     "status": "ok",
     "timestamp": 1644503117334,
     "user": {
      "displayName": "Yves COUDERT",
      "photoUrl": "https://lh3.googleusercontent.com/a/default-user=s64",
      "userId": "17928178837544300220"
     },
     "user_tz": -120
    },
    "id": "FlUsBdKhBIhs"
   },
   "outputs": [],
   "source": [
    "assert rendre(9.7) == [2.0, 2.0, 2.0, 2.0, 1.0, 0.5, 0.2]\n",
    "assert rendre(0.76) == [0.5, 0.2, 0.05, 0.01]\n",
    "assert rendre(7.0) == [2.0, 2.0, 2.0, 1.0]"
   ]
  },
  {
   "cell_type": "code",
   "execution_count": 6,
   "metadata": {},
   "outputs": [
    {
     "name": "stdout",
     "output_type": "stream",
     "text": [
      "[2, 2, 2, 1]\n"
     ]
    }
   ],
   "source": [
    "print(rendre(7.0))"
   ]
  },
  {
   "cell_type": "code",
   "execution_count": null,
   "metadata": {},
   "outputs": [],
   "source": []
  }
 ],
 "metadata": {
  "colab": {
   "name": "PbMonnaie_Partie2 (2).ipynb",
   "provenance": []
  },
  "kernelspec": {
   "display_name": "Python 3 (ipykernel)",
   "language": "python",
   "name": "python3"
  },
  "language_info": {
   "codemirror_mode": {
    "name": "ipython",
    "version": 3
   },
   "file_extension": ".py",
   "mimetype": "text/x-python",
   "name": "python",
   "nbconvert_exporter": "python",
   "pygments_lexer": "ipython3",
   "version": "3.9.12"
  }
 },
 "nbformat": 4,
 "nbformat_minor": 1
}
