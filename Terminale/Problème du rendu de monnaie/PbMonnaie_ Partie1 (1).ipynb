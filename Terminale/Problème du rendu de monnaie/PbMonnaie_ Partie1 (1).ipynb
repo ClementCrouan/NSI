{
 "cells": [
  {
   "cell_type": "markdown",
   "metadata": {
    "collapsed": true,
    "id": "kaW1mLIeAd_H"
   },
   "source": [
    "# Le rendu de monnaie en Europe"
   ]
  },
  {
   "cell_type": "markdown",
   "metadata": {
    "id": "ZXHPTP6GAd_K"
   },
   "source": [
    "On donne le script suivant.\n",
    "\n",
    "Nous allons l'exécuter pour deux sommes sifférentes."
   ]
  },
  {
   "cell_type": "code",
   "execution_count": 1,
   "metadata": {
    "executionInfo": {
     "elapsed": 4,
     "status": "ok",
     "timestamp": 1644502893937,
     "user": {
      "displayName": "Yves COUDERT",
      "photoUrl": "https://lh3.googleusercontent.com/a/default-user=s64",
      "userId": "17928178837544300220"
     },
     "user_tz": -120
    },
    "id": "7UDjVcY1Ad_K"
   },
   "outputs": [],
   "source": [
    "def rendre(somme):\n",
    "    pieces=[2,1,0.5,0.2,0.1,0.05,0.02,0.01]\n",
    "    rendre=somme\n",
    "    liste=[]\n",
    "    for piece in pieces:\n",
    "        while rendre>=piece:\n",
    "            liste.append(piece)\n",
    "            rendre=rendre-piece\n",
    "    return liste\n"
   ]
  },
  {
   "cell_type": "code",
   "execution_count": null,
   "metadata": {
    "id": "oO4zQDYyAd_M",
    "outputId": "f5fa6615-59f0-4381-a968-4e9828fd7479"
   },
   "outputs": [
    {
     "data": {
      "text/plain": [
       "[2, 2, 2, 2, 1, 0.5]"
      ]
     },
     "execution_count": 2,
     "metadata": {},
     "output_type": "execute_result"
    }
   ],
   "source": [
    "rendre(9.5)"
   ]
  },
  {
   "cell_type": "code",
   "execution_count": 2,
   "metadata": {
    "colab": {
     "base_uri": "https://localhost:8080/"
    },
    "executionInfo": {
     "elapsed": 218,
     "status": "ok",
     "timestamp": 1644502917360,
     "user": {
      "displayName": "Yves COUDERT",
      "photoUrl": "https://lh3.googleusercontent.com/a/default-user=s64",
      "userId": "17928178837544300220"
     },
     "user_tz": -120
    },
    "id": "4VXLgCMdAd_M",
    "outputId": "8f9cdd33-7219-4ef3-c335-87e2f5d7062d"
   },
   "outputs": [
    {
     "data": {
      "text/plain": [
       "[2, 2, 2, 2, 1, 0.5, 0.1, 0.05, 0.02, 0.02]"
      ]
     },
     "execution_count": 2,
     "metadata": {},
     "output_type": "execute_result"
    }
   ],
   "source": [
    "rendre (9.7)"
   ]
  },
  {
   "cell_type": "markdown",
   "metadata": {
    "id": "RJ-2JkBtAd_N"
   },
   "source": [
    "Que remarquez-vous?\n",
    "L'aghoritme ne rend pas les pieces les plus adapté (il rend 0.05 au lieu de 0.1)\n",
    "\n",
    "Quelle est à votre avis la cause de ce problème?\n",
    "Le problème viens des float que l'ordinateur calcul aproximativement."
   ]
  },
  {
   "cell_type": "code",
   "execution_count": null,
   "metadata": {},
   "outputs": [],
   "source": []
  }
 ],
 "metadata": {
  "colab": {
   "name": "PbMonnaie_ Partie1 (1).ipynb",
   "provenance": []
  },
  "kernelspec": {
   "display_name": "Python 3 (ipykernel)",
   "language": "python",
   "name": "python3"
  },
  "language_info": {
   "codemirror_mode": {
    "name": "ipython",
    "version": 3
   },
   "file_extension": ".py",
   "mimetype": "text/x-python",
   "name": "python",
   "nbconvert_exporter": "python",
   "pygments_lexer": "ipython3",
   "version": "3.9.12"
  }
 },
 "nbformat": 4,
 "nbformat_minor": 1
}
